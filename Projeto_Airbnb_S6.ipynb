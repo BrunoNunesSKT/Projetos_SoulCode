{
  "nbformat": 4,
  "nbformat_minor": 0,
  "metadata": {
    "colab": {
      "provenance": [],
      "authorship_tag": "ABX9TyMad6B6yY0Apxw+Yk6GtI7v",
      "include_colab_link": true
    },
    "kernelspec": {
      "name": "python3",
      "display_name": "Python 3"
    },
    "language_info": {
      "name": "python"
    }
  },
  "cells": [
    {
      "cell_type": "markdown",
      "metadata": {
        "id": "view-in-github",
        "colab_type": "text"
      },
      "source": [
        "<a href=\"https://colab.research.google.com/github/BrunoNunesSKT/Projetos_SoulCode/blob/main/Projeto_Airbnb_S6.ipynb\" target=\"_parent\"><img src=\"https://colab.research.google.com/assets/colab-badge.svg\" alt=\"Open In Colab\"/></a>"
      ]
    },
    {
      "cell_type": "markdown",
      "source": [
        "# **ANÁLISE DE DADOS - AIRBNB AMSTERDAM**\n",
        "\n",
        "Escola: SoulCode Academy\n",
        "\n",
        "Curso: Bootcamp Analista de Dados - Martech - AD2\n",
        "\n",
        "Período: Semana 6\n",
        "\n",
        "Professor: Franciane Rodrigues\n",
        "\n",
        "Aluno: Bruno Nunes"
      ],
      "metadata": {
        "id": "ttsTBkTjPiis"
      }
    },
    {
      "cell_type": "markdown",
      "source": [
        "## **Pergunta de negócio**"
      ],
      "metadata": {
        "id": "TVkVBbTgP1JX"
      }
    },
    {
      "cell_type": "markdown",
      "source": [
        "Faça uma análise exploratória de dados com a base de dados do Airbnb e indique possíveis oportunidades e/ou ameaças para o empreendimento."
      ],
      "metadata": {
        "id": "xgwEtikWQDJG"
      }
    },
    {
      "cell_type": "markdown",
      "source": [
        "## **Legenda de Dados**"
      ],
      "metadata": {
        "id": "x5BgFKNFQLtN"
      }
    },
    {
      "cell_type": "markdown",
      "source": [
        "`realSum`: preço total  \n",
        "`room_type`: tipo de quarto oferecido  \n",
        "`room_shared`: se o quarto é compartilhado ou não   \n",
        "`room_private`: se o quarto é privativo ou não   \n",
        "`person_capacity`: número máximo de pessoas permitidas na propriedade  \n",
        "`host_is_superhost`: se o host é ou não um superhost (anfitriões mais hospitaleiros)  \n",
        "`multi`: tem vários quartos ou não   \n",
        "`biz`: seja para uso comercial ou familiar  \n",
        "`cleanliness_rating`: Classificação de limpeza  \n",
        "`guest_satisfaction_overall`: satisfação geral do hóspede   \n",
        "`bedrooms`: número de quartos (0 para estúdios)  \n",
        "`dist`: a distância do centro da cidade   \n",
        "`metro_dist`: a distância da estação de metrô mais próxima   \n",
        "`lng`: Longitude   \n",
        "`lat`: Latitude  "
      ],
      "metadata": {
        "id": "3OApMF6cQWNW"
      }
    },
    {
      "cell_type": "markdown",
      "source": [
        "## **Instalando e importando bibliotecas**"
      ],
      "metadata": {
        "id": "xUaWwKMcRAf8"
      }
    },
    {
      "cell_type": "code",
      "source": [
        "# Instalando a lib Pandera\n",
        "!pip install pandera\n",
        "!pip install gcsfs\n",
        "# As demais libs utilizadas já estão instaladas nativamente no Colab"
      ],
      "metadata": {
        "colab": {
          "base_uri": "https://localhost:8080/"
        },
        "id": "U5wu6ZThPw7H",
        "outputId": "233bd12f-975a-4918-bca5-74b3b33ccc86"
      },
      "execution_count": null,
      "outputs": [
        {
          "output_type": "stream",
          "name": "stdout",
          "text": [
            "Requirement already satisfied: pandera in /usr/local/lib/python3.10/dist-packages (0.15.2)\n",
            "Requirement already satisfied: multimethod in /usr/local/lib/python3.10/dist-packages (from pandera) (1.9.1)\n",
            "Requirement already satisfied: numpy>=1.19.0 in /usr/local/lib/python3.10/dist-packages (from pandera) (1.22.4)\n",
            "Requirement already satisfied: packaging>=20.0 in /usr/local/lib/python3.10/dist-packages (from pandera) (23.1)\n",
            "Requirement already satisfied: pandas>=1.2.0 in /usr/local/lib/python3.10/dist-packages (from pandera) (1.5.3)\n",
            "Requirement already satisfied: pydantic<2.0.0 in /usr/local/lib/python3.10/dist-packages (from pandera) (1.10.9)\n",
            "Requirement already satisfied: typeguard>=3.0.2 in /usr/local/lib/python3.10/dist-packages (from pandera) (4.0.0)\n",
            "Requirement already satisfied: typing-inspect>=0.6.0 in /usr/local/lib/python3.10/dist-packages (from pandera) (0.9.0)\n",
            "Requirement already satisfied: wrapt in /usr/local/lib/python3.10/dist-packages (from pandera) (1.14.1)\n",
            "Requirement already satisfied: python-dateutil>=2.8.1 in /usr/local/lib/python3.10/dist-packages (from pandas>=1.2.0->pandera) (2.8.2)\n",
            "Requirement already satisfied: pytz>=2020.1 in /usr/local/lib/python3.10/dist-packages (from pandas>=1.2.0->pandera) (2022.7.1)\n",
            "Requirement already satisfied: typing-extensions>=4.2.0 in /usr/local/lib/python3.10/dist-packages (from pydantic<2.0.0->pandera) (4.6.3)\n",
            "Requirement already satisfied: mypy-extensions>=0.3.0 in /usr/local/lib/python3.10/dist-packages (from typing-inspect>=0.6.0->pandera) (1.0.0)\n",
            "Requirement already satisfied: six>=1.5 in /usr/local/lib/python3.10/dist-packages (from python-dateutil>=2.8.1->pandas>=1.2.0->pandera) (1.16.0)\n",
            "Requirement already satisfied: gcsfs in /usr/local/lib/python3.10/dist-packages (2023.6.0)\n",
            "Requirement already satisfied: aiohttp!=4.0.0a0,!=4.0.0a1 in /usr/local/lib/python3.10/dist-packages (from gcsfs) (3.8.4)\n",
            "Requirement already satisfied: decorator>4.1.2 in /usr/local/lib/python3.10/dist-packages (from gcsfs) (4.4.2)\n",
            "Requirement already satisfied: fsspec==2023.6.0 in /usr/local/lib/python3.10/dist-packages (from gcsfs) (2023.6.0)\n",
            "Requirement already satisfied: google-auth>=1.2 in /usr/local/lib/python3.10/dist-packages (from gcsfs) (2.17.3)\n",
            "Requirement already satisfied: google-auth-oauthlib in /usr/local/lib/python3.10/dist-packages (from gcsfs) (1.0.0)\n",
            "Requirement already satisfied: google-cloud-storage in /usr/local/lib/python3.10/dist-packages (from gcsfs) (2.8.0)\n",
            "Requirement already satisfied: requests in /usr/local/lib/python3.10/dist-packages (from gcsfs) (2.27.1)\n",
            "Requirement already satisfied: attrs>=17.3.0 in /usr/local/lib/python3.10/dist-packages (from aiohttp!=4.0.0a0,!=4.0.0a1->gcsfs) (23.1.0)\n",
            "Requirement already satisfied: charset-normalizer<4.0,>=2.0 in /usr/local/lib/python3.10/dist-packages (from aiohttp!=4.0.0a0,!=4.0.0a1->gcsfs) (2.0.12)\n",
            "Requirement already satisfied: multidict<7.0,>=4.5 in /usr/local/lib/python3.10/dist-packages (from aiohttp!=4.0.0a0,!=4.0.0a1->gcsfs) (6.0.4)\n",
            "Requirement already satisfied: async-timeout<5.0,>=4.0.0a3 in /usr/local/lib/python3.10/dist-packages (from aiohttp!=4.0.0a0,!=4.0.0a1->gcsfs) (4.0.2)\n",
            "Requirement already satisfied: yarl<2.0,>=1.0 in /usr/local/lib/python3.10/dist-packages (from aiohttp!=4.0.0a0,!=4.0.0a1->gcsfs) (1.9.2)\n",
            "Requirement already satisfied: frozenlist>=1.1.1 in /usr/local/lib/python3.10/dist-packages (from aiohttp!=4.0.0a0,!=4.0.0a1->gcsfs) (1.3.3)\n",
            "Requirement already satisfied: aiosignal>=1.1.2 in /usr/local/lib/python3.10/dist-packages (from aiohttp!=4.0.0a0,!=4.0.0a1->gcsfs) (1.3.1)\n",
            "Requirement already satisfied: cachetools<6.0,>=2.0.0 in /usr/local/lib/python3.10/dist-packages (from google-auth>=1.2->gcsfs) (5.3.1)\n",
            "Requirement already satisfied: pyasn1-modules>=0.2.1 in /usr/local/lib/python3.10/dist-packages (from google-auth>=1.2->gcsfs) (0.3.0)\n",
            "Requirement already satisfied: six>=1.9.0 in /usr/local/lib/python3.10/dist-packages (from google-auth>=1.2->gcsfs) (1.16.0)\n",
            "Requirement already satisfied: rsa<5,>=3.1.4 in /usr/local/lib/python3.10/dist-packages (from google-auth>=1.2->gcsfs) (4.9)\n",
            "Requirement already satisfied: requests-oauthlib>=0.7.0 in /usr/local/lib/python3.10/dist-packages (from google-auth-oauthlib->gcsfs) (1.3.1)\n",
            "Requirement already satisfied: google-api-core!=2.0.*,!=2.1.*,!=2.2.*,!=2.3.0,<3.0.0dev,>=1.31.5 in /usr/local/lib/python3.10/dist-packages (from google-cloud-storage->gcsfs) (2.11.1)\n",
            "Requirement already satisfied: google-cloud-core<3.0dev,>=2.3.0 in /usr/local/lib/python3.10/dist-packages (from google-cloud-storage->gcsfs) (2.3.2)\n",
            "Requirement already satisfied: google-resumable-media>=2.3.2 in /usr/local/lib/python3.10/dist-packages (from google-cloud-storage->gcsfs) (2.5.0)\n",
            "Requirement already satisfied: urllib3<1.27,>=1.21.1 in /usr/local/lib/python3.10/dist-packages (from requests->gcsfs) (1.26.16)\n",
            "Requirement already satisfied: certifi>=2017.4.17 in /usr/local/lib/python3.10/dist-packages (from requests->gcsfs) (2023.5.7)\n",
            "Requirement already satisfied: idna<4,>=2.5 in /usr/local/lib/python3.10/dist-packages (from requests->gcsfs) (3.4)\n",
            "Requirement already satisfied: googleapis-common-protos<2.0.dev0,>=1.56.2 in /usr/local/lib/python3.10/dist-packages (from google-api-core!=2.0.*,!=2.1.*,!=2.2.*,!=2.3.0,<3.0.0dev,>=1.31.5->google-cloud-storage->gcsfs) (1.59.1)\n",
            "Requirement already satisfied: protobuf!=3.20.0,!=3.20.1,!=4.21.0,!=4.21.1,!=4.21.2,!=4.21.3,!=4.21.4,!=4.21.5,<5.0.0.dev0,>=3.19.5 in /usr/local/lib/python3.10/dist-packages (from google-api-core!=2.0.*,!=2.1.*,!=2.2.*,!=2.3.0,<3.0.0dev,>=1.31.5->google-cloud-storage->gcsfs) (3.20.3)\n",
            "Requirement already satisfied: google-crc32c<2.0dev,>=1.0 in /usr/local/lib/python3.10/dist-packages (from google-resumable-media>=2.3.2->google-cloud-storage->gcsfs) (1.5.0)\n",
            "Requirement already satisfied: pyasn1<0.6.0,>=0.4.6 in /usr/local/lib/python3.10/dist-packages (from pyasn1-modules>=0.2.1->google-auth>=1.2->gcsfs) (0.5.0)\n",
            "Requirement already satisfied: oauthlib>=3.0.0 in /usr/local/lib/python3.10/dist-packages (from requests-oauthlib>=0.7.0->google-auth-oauthlib->gcsfs) (3.2.2)\n"
          ]
        }
      ]
    },
    {
      "cell_type": "code",
      "source": [
        "# Importando as libs\n",
        "import pandas as pd\n",
        "import numpy as np\n",
        "import os\n",
        "import pandera as pa\n",
        "import matplotlib.pyplot as plt\n",
        "import seaborn as sns\n",
        "from google.cloud import storage"
      ],
      "metadata": {
        "id": "QVzpqCViR0cJ"
      },
      "execution_count": null,
      "outputs": []
    },
    {
      "cell_type": "markdown",
      "source": [
        "## **Extração**"
      ],
      "metadata": {
        "id": "NUtEY7rcSZZl"
      }
    },
    {
      "cell_type": "code",
      "source": [
        "# CONFIGURANDO DA CHAVE DE SEGURANCA - ACESSO O PROJETO\n",
        "serviceAccount = 'REMOVIDO'\n",
        "os.environ['GOOGLE_APPLICATION_CREDENTIALS'] = serviceAccount"
      ],
      "metadata": {
        "id": "mh-2Ct0gSHOZ"
      },
      "execution_count": null,
      "outputs": []
    },
    {
      "cell_type": "code",
      "source": [
        "# Configurações Google Cloud Storage - ACESSO AO BUCKET\n",
        "client = storage.Client()\n",
        "bucket = client.get_bucket('projetos-soulcode')\n",
        "bucket.blob('airbnb_bruto.csv')\n",
        "path = 'REMOVIDO'"
      ],
      "metadata": {
        "id": "5LeouE5TSJnQ"
      },
      "execution_count": null,
      "outputs": []
    },
    {
      "cell_type": "code",
      "source": [
        "# Abertura da base de dados e cópia de segurança (bucket)\n",
        "df = pd.read_csv(path, sep=',')"
      ],
      "metadata": {
        "id": "9Jf97WsVSRQK"
      },
      "execution_count": null,
      "outputs": []
    },
    {
      "cell_type": "markdown",
      "source": [
        "## **Pré-Análise**"
      ],
      "metadata": {
        "id": "Kqr2oexud6g9"
      }
    },
    {
      "cell_type": "code",
      "source": [
        "# Visualizando importação do DB (A principio somente as 5 primeiras linhas)\n",
        "df.head()"
      ],
      "metadata": {
        "colab": {
          "base_uri": "https://localhost:8080/",
          "height": 374
        },
        "id": "6odOUdbeUeai",
        "outputId": "9a62f016-2fdc-4412-b127-143bb0d14ccc"
      },
      "execution_count": null,
      "outputs": [
        {
          "output_type": "execute_result",
          "data": {
            "text/plain": [
              "   Unnamed: 0     realSum     room_type  room_shared  room_private  \\\n",
              "0           0  194.033698  Private room        False          True   \n",
              "1           1  344.245776  Private room        False          True   \n",
              "2           2  264.101422  Private room        False          True   \n",
              "3           3  433.529398  Private room        False          True   \n",
              "4           4  485.552926  Private room        False          True   \n",
              "\n",
              "   person_capacity  host_is_superhost  multi  biz  cleanliness_rating  \\\n",
              "0              2.0              False      1    0                10.0   \n",
              "1              4.0              False      0    0                 8.0   \n",
              "2              2.0              False      0    1                 9.0   \n",
              "3              4.0              False      0    1                 9.0   \n",
              "4              2.0               True      0    0                10.0   \n",
              "\n",
              "   guest_satisfaction_overall  bedrooms      dist  metro_dist  attr_index  \\\n",
              "0                        93.0         1  5.022964    2.539380   78.690379   \n",
              "1                        85.0         1  0.488389    0.239404  631.176378   \n",
              "2                        87.0         1  5.748312    3.651621   75.275877   \n",
              "3                        90.0         2  0.384862    0.439876  493.272534   \n",
              "4                        98.0         1  0.544738    0.318693  552.830324   \n",
              "\n",
              "   attr_index_norm  rest_index  rest_index_norm      lng       lat  \n",
              "0         4.166708   98.253896         6.846473  4.90569  52.41772  \n",
              "1        33.421209  837.280757        58.342928  4.90005  52.37432  \n",
              "2         3.985908   95.386955         6.646700  4.97512  52.36103  \n",
              "3        26.119108  875.033098        60.973565  4.89417  52.37663  \n",
              "4        29.272733  815.305740        56.811677  4.90051  52.37508  "
            ],
            "text/html": [
              "\n",
              "  <div id=\"df-e1b3b865-9344-4f38-bb50-52f0564eac0f\">\n",
              "    <div class=\"colab-df-container\">\n",
              "      <div>\n",
              "<style scoped>\n",
              "    .dataframe tbody tr th:only-of-type {\n",
              "        vertical-align: middle;\n",
              "    }\n",
              "\n",
              "    .dataframe tbody tr th {\n",
              "        vertical-align: top;\n",
              "    }\n",
              "\n",
              "    .dataframe thead th {\n",
              "        text-align: right;\n",
              "    }\n",
              "</style>\n",
              "<table border=\"1\" class=\"dataframe\">\n",
              "  <thead>\n",
              "    <tr style=\"text-align: right;\">\n",
              "      <th></th>\n",
              "      <th>Unnamed: 0</th>\n",
              "      <th>realSum</th>\n",
              "      <th>room_type</th>\n",
              "      <th>room_shared</th>\n",
              "      <th>room_private</th>\n",
              "      <th>person_capacity</th>\n",
              "      <th>host_is_superhost</th>\n",
              "      <th>multi</th>\n",
              "      <th>biz</th>\n",
              "      <th>cleanliness_rating</th>\n",
              "      <th>guest_satisfaction_overall</th>\n",
              "      <th>bedrooms</th>\n",
              "      <th>dist</th>\n",
              "      <th>metro_dist</th>\n",
              "      <th>attr_index</th>\n",
              "      <th>attr_index_norm</th>\n",
              "      <th>rest_index</th>\n",
              "      <th>rest_index_norm</th>\n",
              "      <th>lng</th>\n",
              "      <th>lat</th>\n",
              "    </tr>\n",
              "  </thead>\n",
              "  <tbody>\n",
              "    <tr>\n",
              "      <th>0</th>\n",
              "      <td>0</td>\n",
              "      <td>194.033698</td>\n",
              "      <td>Private room</td>\n",
              "      <td>False</td>\n",
              "      <td>True</td>\n",
              "      <td>2.0</td>\n",
              "      <td>False</td>\n",
              "      <td>1</td>\n",
              "      <td>0</td>\n",
              "      <td>10.0</td>\n",
              "      <td>93.0</td>\n",
              "      <td>1</td>\n",
              "      <td>5.022964</td>\n",
              "      <td>2.539380</td>\n",
              "      <td>78.690379</td>\n",
              "      <td>4.166708</td>\n",
              "      <td>98.253896</td>\n",
              "      <td>6.846473</td>\n",
              "      <td>4.90569</td>\n",
              "      <td>52.41772</td>\n",
              "    </tr>\n",
              "    <tr>\n",
              "      <th>1</th>\n",
              "      <td>1</td>\n",
              "      <td>344.245776</td>\n",
              "      <td>Private room</td>\n",
              "      <td>False</td>\n",
              "      <td>True</td>\n",
              "      <td>4.0</td>\n",
              "      <td>False</td>\n",
              "      <td>0</td>\n",
              "      <td>0</td>\n",
              "      <td>8.0</td>\n",
              "      <td>85.0</td>\n",
              "      <td>1</td>\n",
              "      <td>0.488389</td>\n",
              "      <td>0.239404</td>\n",
              "      <td>631.176378</td>\n",
              "      <td>33.421209</td>\n",
              "      <td>837.280757</td>\n",
              "      <td>58.342928</td>\n",
              "      <td>4.90005</td>\n",
              "      <td>52.37432</td>\n",
              "    </tr>\n",
              "    <tr>\n",
              "      <th>2</th>\n",
              "      <td>2</td>\n",
              "      <td>264.101422</td>\n",
              "      <td>Private room</td>\n",
              "      <td>False</td>\n",
              "      <td>True</td>\n",
              "      <td>2.0</td>\n",
              "      <td>False</td>\n",
              "      <td>0</td>\n",
              "      <td>1</td>\n",
              "      <td>9.0</td>\n",
              "      <td>87.0</td>\n",
              "      <td>1</td>\n",
              "      <td>5.748312</td>\n",
              "      <td>3.651621</td>\n",
              "      <td>75.275877</td>\n",
              "      <td>3.985908</td>\n",
              "      <td>95.386955</td>\n",
              "      <td>6.646700</td>\n",
              "      <td>4.97512</td>\n",
              "      <td>52.36103</td>\n",
              "    </tr>\n",
              "    <tr>\n",
              "      <th>3</th>\n",
              "      <td>3</td>\n",
              "      <td>433.529398</td>\n",
              "      <td>Private room</td>\n",
              "      <td>False</td>\n",
              "      <td>True</td>\n",
              "      <td>4.0</td>\n",
              "      <td>False</td>\n",
              "      <td>0</td>\n",
              "      <td>1</td>\n",
              "      <td>9.0</td>\n",
              "      <td>90.0</td>\n",
              "      <td>2</td>\n",
              "      <td>0.384862</td>\n",
              "      <td>0.439876</td>\n",
              "      <td>493.272534</td>\n",
              "      <td>26.119108</td>\n",
              "      <td>875.033098</td>\n",
              "      <td>60.973565</td>\n",
              "      <td>4.89417</td>\n",
              "      <td>52.37663</td>\n",
              "    </tr>\n",
              "    <tr>\n",
              "      <th>4</th>\n",
              "      <td>4</td>\n",
              "      <td>485.552926</td>\n",
              "      <td>Private room</td>\n",
              "      <td>False</td>\n",
              "      <td>True</td>\n",
              "      <td>2.0</td>\n",
              "      <td>True</td>\n",
              "      <td>0</td>\n",
              "      <td>0</td>\n",
              "      <td>10.0</td>\n",
              "      <td>98.0</td>\n",
              "      <td>1</td>\n",
              "      <td>0.544738</td>\n",
              "      <td>0.318693</td>\n",
              "      <td>552.830324</td>\n",
              "      <td>29.272733</td>\n",
              "      <td>815.305740</td>\n",
              "      <td>56.811677</td>\n",
              "      <td>4.90051</td>\n",
              "      <td>52.37508</td>\n",
              "    </tr>\n",
              "  </tbody>\n",
              "</table>\n",
              "</div>\n",
              "      <button class=\"colab-df-convert\" onclick=\"convertToInteractive('df-e1b3b865-9344-4f38-bb50-52f0564eac0f')\"\n",
              "              title=\"Convert this dataframe to an interactive table.\"\n",
              "              style=\"display:none;\">\n",
              "        \n",
              "  <svg xmlns=\"http://www.w3.org/2000/svg\" height=\"24px\"viewBox=\"0 0 24 24\"\n",
              "       width=\"24px\">\n",
              "    <path d=\"M0 0h24v24H0V0z\" fill=\"none\"/>\n",
              "    <path d=\"M18.56 5.44l.94 2.06.94-2.06 2.06-.94-2.06-.94-.94-2.06-.94 2.06-2.06.94zm-11 1L8.5 8.5l.94-2.06 2.06-.94-2.06-.94L8.5 2.5l-.94 2.06-2.06.94zm10 10l.94 2.06.94-2.06 2.06-.94-2.06-.94-.94-2.06-.94 2.06-2.06.94z\"/><path d=\"M17.41 7.96l-1.37-1.37c-.4-.4-.92-.59-1.43-.59-.52 0-1.04.2-1.43.59L10.3 9.45l-7.72 7.72c-.78.78-.78 2.05 0 2.83L4 21.41c.39.39.9.59 1.41.59.51 0 1.02-.2 1.41-.59l7.78-7.78 2.81-2.81c.8-.78.8-2.07 0-2.86zM5.41 20L4 18.59l7.72-7.72 1.47 1.35L5.41 20z\"/>\n",
              "  </svg>\n",
              "      </button>\n",
              "      \n",
              "  <style>\n",
              "    .colab-df-container {\n",
              "      display:flex;\n",
              "      flex-wrap:wrap;\n",
              "      gap: 12px;\n",
              "    }\n",
              "\n",
              "    .colab-df-convert {\n",
              "      background-color: #E8F0FE;\n",
              "      border: none;\n",
              "      border-radius: 50%;\n",
              "      cursor: pointer;\n",
              "      display: none;\n",
              "      fill: #1967D2;\n",
              "      height: 32px;\n",
              "      padding: 0 0 0 0;\n",
              "      width: 32px;\n",
              "    }\n",
              "\n",
              "    .colab-df-convert:hover {\n",
              "      background-color: #E2EBFA;\n",
              "      box-shadow: 0px 1px 2px rgba(60, 64, 67, 0.3), 0px 1px 3px 1px rgba(60, 64, 67, 0.15);\n",
              "      fill: #174EA6;\n",
              "    }\n",
              "\n",
              "    [theme=dark] .colab-df-convert {\n",
              "      background-color: #3B4455;\n",
              "      fill: #D2E3FC;\n",
              "    }\n",
              "\n",
              "    [theme=dark] .colab-df-convert:hover {\n",
              "      background-color: #434B5C;\n",
              "      box-shadow: 0px 1px 3px 1px rgba(0, 0, 0, 0.15);\n",
              "      filter: drop-shadow(0px 1px 2px rgba(0, 0, 0, 0.3));\n",
              "      fill: #FFFFFF;\n",
              "    }\n",
              "  </style>\n",
              "\n",
              "      <script>\n",
              "        const buttonEl =\n",
              "          document.querySelector('#df-e1b3b865-9344-4f38-bb50-52f0564eac0f button.colab-df-convert');\n",
              "        buttonEl.style.display =\n",
              "          google.colab.kernel.accessAllowed ? 'block' : 'none';\n",
              "\n",
              "        async function convertToInteractive(key) {\n",
              "          const element = document.querySelector('#df-e1b3b865-9344-4f38-bb50-52f0564eac0f');\n",
              "          const dataTable =\n",
              "            await google.colab.kernel.invokeFunction('convertToInteractive',\n",
              "                                                     [key], {});\n",
              "          if (!dataTable) return;\n",
              "\n",
              "          const docLinkHtml = 'Like what you see? Visit the ' +\n",
              "            '<a target=\"_blank\" href=https://colab.research.google.com/notebooks/data_table.ipynb>data table notebook</a>'\n",
              "            + ' to learn more about interactive tables.';\n",
              "          element.innerHTML = '';\n",
              "          dataTable['output_type'] = 'display_data';\n",
              "          await google.colab.output.renderOutput(dataTable, element);\n",
              "          const docLink = document.createElement('div');\n",
              "          docLink.innerHTML = docLinkHtml;\n",
              "          element.appendChild(docLink);\n",
              "        }\n",
              "      </script>\n",
              "    </div>\n",
              "  </div>\n",
              "  "
            ]
          },
          "metadata": {},
          "execution_count": 100
        }
      ]
    },
    {
      "cell_type": "code",
      "source": [
        "# Verificando possiveis inconsistências\n",
        "\n",
        "df.info()"
      ],
      "metadata": {
        "colab": {
          "base_uri": "https://localhost:8080/"
        },
        "id": "EUs-947mbgky",
        "outputId": "beec2381-8f9e-4a95-bf59-e51e21ef7ecc"
      },
      "execution_count": null,
      "outputs": [
        {
          "output_type": "stream",
          "name": "stdout",
          "text": [
            "<class 'pandas.core.frame.DataFrame'>\n",
            "RangeIndex: 1103 entries, 0 to 1102\n",
            "Data columns (total 20 columns):\n",
            " #   Column                      Non-Null Count  Dtype  \n",
            "---  ------                      --------------  -----  \n",
            " 0   Unnamed: 0                  1103 non-null   int64  \n",
            " 1   realSum                     1103 non-null   float64\n",
            " 2   room_type                   1103 non-null   object \n",
            " 3   room_shared                 1103 non-null   bool   \n",
            " 4   room_private                1103 non-null   bool   \n",
            " 5   person_capacity             1103 non-null   float64\n",
            " 6   host_is_superhost           1103 non-null   bool   \n",
            " 7   multi                       1103 non-null   int64  \n",
            " 8   biz                         1103 non-null   int64  \n",
            " 9   cleanliness_rating          1103 non-null   float64\n",
            " 10  guest_satisfaction_overall  1103 non-null   float64\n",
            " 11  bedrooms                    1103 non-null   int64  \n",
            " 12  dist                        1103 non-null   float64\n",
            " 13  metro_dist                  1103 non-null   float64\n",
            " 14  attr_index                  1103 non-null   float64\n",
            " 15  attr_index_norm             1103 non-null   float64\n",
            " 16  rest_index                  1103 non-null   float64\n",
            " 17  rest_index_norm             1103 non-null   float64\n",
            " 18  lng                         1103 non-null   float64\n",
            " 19  lat                         1103 non-null   float64\n",
            "dtypes: bool(3), float64(12), int64(4), object(1)\n",
            "memory usage: 149.8+ KB\n"
          ]
        }
      ]
    },
    {
      "cell_type": "code",
      "source": [
        "# Criando Backup do DB sem alterações\n",
        "dfbackup = df.copy()"
      ],
      "metadata": {
        "id": "P2QqlzEVY7xu"
      },
      "execution_count": null,
      "outputs": []
    },
    {
      "cell_type": "markdown",
      "source": [
        "## **Transformação**"
      ],
      "metadata": {
        "id": "4d0zTAzhVE_X"
      }
    },
    {
      "cell_type": "code",
      "source": [
        "# Removendo atributos que não serão analisados a principio\n",
        "\n",
        "df.drop(['rest_index_norm',\n",
        "         'rest_index',\n",
        "         'attr_index_norm',\n",
        "         'attr_index',\n",
        "         'multi',\n",
        "         'biz'],axis=1, inplace=True)"
      ],
      "metadata": {
        "id": "f2LYri1wYo9A"
      },
      "execution_count": null,
      "outputs": []
    },
    {
      "cell_type": "code",
      "source": [
        "# Traduzindo os atributos (EN - PT)\n",
        "df.rename(columns={'room_type':'tipo_quarto',\n",
        "                   'room_shared':'compartilhado',\n",
        "                   'room_private': 'privado',\n",
        "                   'person_capacity':'capacidade',\n",
        "                   'bedrooms':'quartos',\n",
        "                   'cleanliness_rating':'nota_limpeza',\n",
        "                   'host_is_superhost':'superhost',\n",
        "                   'guest_satisfaction_overall':'satisfacao',\n",
        "                   'dist':'distancia_centro',\n",
        "                   'metro_dist':'distancia_metro',\n",
        "                   'realSum':'preco_total',\n",
        "                   'lat':'latitude',\n",
        "                   'lng':'longitude',\n",
        "                   'Unnamed: 0': 'id'},\n",
        "                    inplace = True\n",
        "          )"
      ],
      "metadata": {
        "id": "RYtGsQMpVIOq"
      },
      "execution_count": null,
      "outputs": []
    },
    {
      "cell_type": "code",
      "source": [
        "# Traduzindo os dados\n",
        "traducao_tipo_quarto = {\n",
        "    'Entire home/apt': 'Casa inteira/Apt',\n",
        "    'Shared room': 'Quarto compartilhado',\n",
        "    'Private room': 'Quarto privado'\n",
        "}\n",
        "\n",
        "df['tipo_quarto'].replace(traducao_tipo_quarto, inplace = True)"
      ],
      "metadata": {
        "id": "GcRXGxgWgSzo"
      },
      "execution_count": null,
      "outputs": []
    },
    {
      "cell_type": "code",
      "source": [
        "# Verificando se todos ID's são unicos\n",
        "df.id.is_unique"
      ],
      "metadata": {
        "colab": {
          "base_uri": "https://localhost:8080/"
        },
        "id": "6_i_TAkQa_HK",
        "outputId": "8f95c4f7-1738-4244-f721-b0c3e6b1a145"
      },
      "execution_count": null,
      "outputs": [
        {
          "output_type": "execute_result",
          "data": {
            "text/plain": [
              "True"
            ]
          },
          "metadata": {},
          "execution_count": 106
        }
      ]
    },
    {
      "cell_type": "code",
      "source": [
        "# Verificando dados nulos, ausente etc 1\n",
        "df.isna().sum()"
      ],
      "metadata": {
        "colab": {
          "base_uri": "https://localhost:8080/"
        },
        "id": "T5O5BBUwcfK_",
        "outputId": "15101f52-848f-4923-f859-7f768e251696"
      },
      "execution_count": null,
      "outputs": [
        {
          "output_type": "execute_result",
          "data": {
            "text/plain": [
              "id                  0\n",
              "preco_total         0\n",
              "tipo_quarto         0\n",
              "compartilhado       0\n",
              "privado             0\n",
              "capacidade          0\n",
              "superhost           0\n",
              "nota_limpeza        0\n",
              "satisfacao          0\n",
              "quartos             0\n",
              "distancia_centro    0\n",
              "distancia_metro     0\n",
              "longitude           0\n",
              "latitude            0\n",
              "dtype: int64"
            ]
          },
          "metadata": {},
          "execution_count": 107
        }
      ]
    },
    {
      "cell_type": "code",
      "source": [
        "# Verificando dados nulos, ausente etc 2\n",
        "df.isnull().sum()"
      ],
      "metadata": {
        "colab": {
          "base_uri": "https://localhost:8080/"
        },
        "id": "83bH09LDcqbN",
        "outputId": "753edf84-25d3-4130-8393-fba95ba46c88"
      },
      "execution_count": null,
      "outputs": [
        {
          "output_type": "execute_result",
          "data": {
            "text/plain": [
              "id                  0\n",
              "preco_total         0\n",
              "tipo_quarto         0\n",
              "compartilhado       0\n",
              "privado             0\n",
              "capacidade          0\n",
              "superhost           0\n",
              "nota_limpeza        0\n",
              "satisfacao          0\n",
              "quartos             0\n",
              "distancia_centro    0\n",
              "distancia_metro     0\n",
              "longitude           0\n",
              "latitude            0\n",
              "dtype: int64"
            ]
          },
          "metadata": {},
          "execution_count": 108
        }
      ]
    },
    {
      "cell_type": "code",
      "source": [
        "# Verificando alterações\n",
        "df.head()"
      ],
      "metadata": {
        "colab": {
          "base_uri": "https://localhost:8080/",
          "height": 357
        },
        "id": "H5EaGbyzaHaG",
        "outputId": "add5e501-08e6-4662-abea-2bfce6cd842e"
      },
      "execution_count": null,
      "outputs": [
        {
          "output_type": "execute_result",
          "data": {
            "text/plain": [
              "   id  preco_total     tipo_quarto  compartilhado  privado  capacidade  \\\n",
              "0   0   194.033698  Quarto privado          False     True         2.0   \n",
              "1   1   344.245776  Quarto privado          False     True         4.0   \n",
              "2   2   264.101422  Quarto privado          False     True         2.0   \n",
              "3   3   433.529398  Quarto privado          False     True         4.0   \n",
              "4   4   485.552926  Quarto privado          False     True         2.0   \n",
              "\n",
              "   superhost  nota_limpeza  satisfacao  quartos  distancia_centro  \\\n",
              "0      False          10.0        93.0        1          5.022964   \n",
              "1      False           8.0        85.0        1          0.488389   \n",
              "2      False           9.0        87.0        1          5.748312   \n",
              "3      False           9.0        90.0        2          0.384862   \n",
              "4       True          10.0        98.0        1          0.544738   \n",
              "\n",
              "   distancia_metro  longitude  latitude  \n",
              "0         2.539380    4.90569  52.41772  \n",
              "1         0.239404    4.90005  52.37432  \n",
              "2         3.651621    4.97512  52.36103  \n",
              "3         0.439876    4.89417  52.37663  \n",
              "4         0.318693    4.90051  52.37508  "
            ],
            "text/html": [
              "\n",
              "  <div id=\"df-f7f6bbb8-6810-42dd-a689-1985dc4dff4a\">\n",
              "    <div class=\"colab-df-container\">\n",
              "      <div>\n",
              "<style scoped>\n",
              "    .dataframe tbody tr th:only-of-type {\n",
              "        vertical-align: middle;\n",
              "    }\n",
              "\n",
              "    .dataframe tbody tr th {\n",
              "        vertical-align: top;\n",
              "    }\n",
              "\n",
              "    .dataframe thead th {\n",
              "        text-align: right;\n",
              "    }\n",
              "</style>\n",
              "<table border=\"1\" class=\"dataframe\">\n",
              "  <thead>\n",
              "    <tr style=\"text-align: right;\">\n",
              "      <th></th>\n",
              "      <th>id</th>\n",
              "      <th>preco_total</th>\n",
              "      <th>tipo_quarto</th>\n",
              "      <th>compartilhado</th>\n",
              "      <th>privado</th>\n",
              "      <th>capacidade</th>\n",
              "      <th>superhost</th>\n",
              "      <th>nota_limpeza</th>\n",
              "      <th>satisfacao</th>\n",
              "      <th>quartos</th>\n",
              "      <th>distancia_centro</th>\n",
              "      <th>distancia_metro</th>\n",
              "      <th>longitude</th>\n",
              "      <th>latitude</th>\n",
              "    </tr>\n",
              "  </thead>\n",
              "  <tbody>\n",
              "    <tr>\n",
              "      <th>0</th>\n",
              "      <td>0</td>\n",
              "      <td>194.033698</td>\n",
              "      <td>Quarto privado</td>\n",
              "      <td>False</td>\n",
              "      <td>True</td>\n",
              "      <td>2.0</td>\n",
              "      <td>False</td>\n",
              "      <td>10.0</td>\n",
              "      <td>93.0</td>\n",
              "      <td>1</td>\n",
              "      <td>5.022964</td>\n",
              "      <td>2.539380</td>\n",
              "      <td>4.90569</td>\n",
              "      <td>52.41772</td>\n",
              "    </tr>\n",
              "    <tr>\n",
              "      <th>1</th>\n",
              "      <td>1</td>\n",
              "      <td>344.245776</td>\n",
              "      <td>Quarto privado</td>\n",
              "      <td>False</td>\n",
              "      <td>True</td>\n",
              "      <td>4.0</td>\n",
              "      <td>False</td>\n",
              "      <td>8.0</td>\n",
              "      <td>85.0</td>\n",
              "      <td>1</td>\n",
              "      <td>0.488389</td>\n",
              "      <td>0.239404</td>\n",
              "      <td>4.90005</td>\n",
              "      <td>52.37432</td>\n",
              "    </tr>\n",
              "    <tr>\n",
              "      <th>2</th>\n",
              "      <td>2</td>\n",
              "      <td>264.101422</td>\n",
              "      <td>Quarto privado</td>\n",
              "      <td>False</td>\n",
              "      <td>True</td>\n",
              "      <td>2.0</td>\n",
              "      <td>False</td>\n",
              "      <td>9.0</td>\n",
              "      <td>87.0</td>\n",
              "      <td>1</td>\n",
              "      <td>5.748312</td>\n",
              "      <td>3.651621</td>\n",
              "      <td>4.97512</td>\n",
              "      <td>52.36103</td>\n",
              "    </tr>\n",
              "    <tr>\n",
              "      <th>3</th>\n",
              "      <td>3</td>\n",
              "      <td>433.529398</td>\n",
              "      <td>Quarto privado</td>\n",
              "      <td>False</td>\n",
              "      <td>True</td>\n",
              "      <td>4.0</td>\n",
              "      <td>False</td>\n",
              "      <td>9.0</td>\n",
              "      <td>90.0</td>\n",
              "      <td>2</td>\n",
              "      <td>0.384862</td>\n",
              "      <td>0.439876</td>\n",
              "      <td>4.89417</td>\n",
              "      <td>52.37663</td>\n",
              "    </tr>\n",
              "    <tr>\n",
              "      <th>4</th>\n",
              "      <td>4</td>\n",
              "      <td>485.552926</td>\n",
              "      <td>Quarto privado</td>\n",
              "      <td>False</td>\n",
              "      <td>True</td>\n",
              "      <td>2.0</td>\n",
              "      <td>True</td>\n",
              "      <td>10.0</td>\n",
              "      <td>98.0</td>\n",
              "      <td>1</td>\n",
              "      <td>0.544738</td>\n",
              "      <td>0.318693</td>\n",
              "      <td>4.90051</td>\n",
              "      <td>52.37508</td>\n",
              "    </tr>\n",
              "  </tbody>\n",
              "</table>\n",
              "</div>\n",
              "      <button class=\"colab-df-convert\" onclick=\"convertToInteractive('df-f7f6bbb8-6810-42dd-a689-1985dc4dff4a')\"\n",
              "              title=\"Convert this dataframe to an interactive table.\"\n",
              "              style=\"display:none;\">\n",
              "        \n",
              "  <svg xmlns=\"http://www.w3.org/2000/svg\" height=\"24px\"viewBox=\"0 0 24 24\"\n",
              "       width=\"24px\">\n",
              "    <path d=\"M0 0h24v24H0V0z\" fill=\"none\"/>\n",
              "    <path d=\"M18.56 5.44l.94 2.06.94-2.06 2.06-.94-2.06-.94-.94-2.06-.94 2.06-2.06.94zm-11 1L8.5 8.5l.94-2.06 2.06-.94-2.06-.94L8.5 2.5l-.94 2.06-2.06.94zm10 10l.94 2.06.94-2.06 2.06-.94-2.06-.94-.94-2.06-.94 2.06-2.06.94z\"/><path d=\"M17.41 7.96l-1.37-1.37c-.4-.4-.92-.59-1.43-.59-.52 0-1.04.2-1.43.59L10.3 9.45l-7.72 7.72c-.78.78-.78 2.05 0 2.83L4 21.41c.39.39.9.59 1.41.59.51 0 1.02-.2 1.41-.59l7.78-7.78 2.81-2.81c.8-.78.8-2.07 0-2.86zM5.41 20L4 18.59l7.72-7.72 1.47 1.35L5.41 20z\"/>\n",
              "  </svg>\n",
              "      </button>\n",
              "      \n",
              "  <style>\n",
              "    .colab-df-container {\n",
              "      display:flex;\n",
              "      flex-wrap:wrap;\n",
              "      gap: 12px;\n",
              "    }\n",
              "\n",
              "    .colab-df-convert {\n",
              "      background-color: #E8F0FE;\n",
              "      border: none;\n",
              "      border-radius: 50%;\n",
              "      cursor: pointer;\n",
              "      display: none;\n",
              "      fill: #1967D2;\n",
              "      height: 32px;\n",
              "      padding: 0 0 0 0;\n",
              "      width: 32px;\n",
              "    }\n",
              "\n",
              "    .colab-df-convert:hover {\n",
              "      background-color: #E2EBFA;\n",
              "      box-shadow: 0px 1px 2px rgba(60, 64, 67, 0.3), 0px 1px 3px 1px rgba(60, 64, 67, 0.15);\n",
              "      fill: #174EA6;\n",
              "    }\n",
              "\n",
              "    [theme=dark] .colab-df-convert {\n",
              "      background-color: #3B4455;\n",
              "      fill: #D2E3FC;\n",
              "    }\n",
              "\n",
              "    [theme=dark] .colab-df-convert:hover {\n",
              "      background-color: #434B5C;\n",
              "      box-shadow: 0px 1px 3px 1px rgba(0, 0, 0, 0.15);\n",
              "      filter: drop-shadow(0px 1px 2px rgba(0, 0, 0, 0.3));\n",
              "      fill: #FFFFFF;\n",
              "    }\n",
              "  </style>\n",
              "\n",
              "      <script>\n",
              "        const buttonEl =\n",
              "          document.querySelector('#df-f7f6bbb8-6810-42dd-a689-1985dc4dff4a button.colab-df-convert');\n",
              "        buttonEl.style.display =\n",
              "          google.colab.kernel.accessAllowed ? 'block' : 'none';\n",
              "\n",
              "        async function convertToInteractive(key) {\n",
              "          const element = document.querySelector('#df-f7f6bbb8-6810-42dd-a689-1985dc4dff4a');\n",
              "          const dataTable =\n",
              "            await google.colab.kernel.invokeFunction('convertToInteractive',\n",
              "                                                     [key], {});\n",
              "          if (!dataTable) return;\n",
              "\n",
              "          const docLinkHtml = 'Like what you see? Visit the ' +\n",
              "            '<a target=\"_blank\" href=https://colab.research.google.com/notebooks/data_table.ipynb>data table notebook</a>'\n",
              "            + ' to learn more about interactive tables.';\n",
              "          element.innerHTML = '';\n",
              "          dataTable['output_type'] = 'display_data';\n",
              "          await google.colab.output.renderOutput(dataTable, element);\n",
              "          const docLink = document.createElement('div');\n",
              "          docLink.innerHTML = docLinkHtml;\n",
              "          element.appendChild(docLink);\n",
              "        }\n",
              "      </script>\n",
              "    </div>\n",
              "  </div>\n",
              "  "
            ]
          },
          "metadata": {},
          "execution_count": 109
        }
      ]
    },
    {
      "cell_type": "code",
      "source": [
        "# Removendo os atributos \"compartilhado\" e \"privado\" pois se mostram redundantes ao atributo \"tipo_quarto\"\n",
        "df.drop('compartilhado', axis=1,inplace=True)\n",
        "df.drop('privado', axis=1,inplace=True)"
      ],
      "metadata": {
        "id": "-aNTil1qmS3h"
      },
      "execution_count": null,
      "outputs": []
    },
    {
      "cell_type": "code",
      "source": [
        "# Removendo os atributos \"latitude\" e \"longitude\" pois não será utilizado para análise\n",
        "df.drop('latitude', axis=1,inplace=True)\n",
        "df.drop('longitude', axis=1,inplace=True)"
      ],
      "metadata": {
        "id": "rS7OUtGXiRMc"
      },
      "execution_count": null,
      "outputs": []
    },
    {
      "cell_type": "code",
      "source": [
        "# Checando tipos dos dados em processo de transformação\n",
        "df.info()"
      ],
      "metadata": {
        "colab": {
          "base_uri": "https://localhost:8080/"
        },
        "id": "5TSE8-3YeT04",
        "outputId": "02b3b4df-4078-4ac9-d843-9a549674db5f"
      },
      "execution_count": null,
      "outputs": [
        {
          "output_type": "stream",
          "name": "stdout",
          "text": [
            "<class 'pandas.core.frame.DataFrame'>\n",
            "RangeIndex: 1103 entries, 0 to 1102\n",
            "Data columns (total 10 columns):\n",
            " #   Column            Non-Null Count  Dtype  \n",
            "---  ------            --------------  -----  \n",
            " 0   id                1103 non-null   int64  \n",
            " 1   preco_total       1103 non-null   float64\n",
            " 2   tipo_quarto       1103 non-null   object \n",
            " 3   capacidade        1103 non-null   float64\n",
            " 4   superhost         1103 non-null   bool   \n",
            " 5   nota_limpeza      1103 non-null   float64\n",
            " 6   satisfacao        1103 non-null   float64\n",
            " 7   quartos           1103 non-null   int64  \n",
            " 8   distancia_centro  1103 non-null   float64\n",
            " 9   distancia_metro   1103 non-null   float64\n",
            "dtypes: bool(1), float64(6), int64(2), object(1)\n",
            "memory usage: 78.8+ KB\n"
          ]
        }
      ]
    },
    {
      "cell_type": "code",
      "source": [
        "# Transformando o atributo ID (identificador) para String\n",
        "df['id'] = df['id'].astype(str)"
      ],
      "metadata": {
        "id": "QEOstOcke3kl"
      },
      "execution_count": null,
      "outputs": []
    },
    {
      "cell_type": "code",
      "source": [
        "# Checando alteração do tipo do atributo ID\n",
        "df.info()"
      ],
      "metadata": {
        "colab": {
          "base_uri": "https://localhost:8080/"
        },
        "id": "NnfbZ9rNfGFu",
        "outputId": "0f26d848-fb02-4776-e4e5-185dea8ed2e9"
      },
      "execution_count": null,
      "outputs": [
        {
          "output_type": "stream",
          "name": "stdout",
          "text": [
            "<class 'pandas.core.frame.DataFrame'>\n",
            "RangeIndex: 1103 entries, 0 to 1102\n",
            "Data columns (total 10 columns):\n",
            " #   Column            Non-Null Count  Dtype  \n",
            "---  ------            --------------  -----  \n",
            " 0   id                1103 non-null   object \n",
            " 1   preco_total       1103 non-null   float64\n",
            " 2   tipo_quarto       1103 non-null   object \n",
            " 3   capacidade        1103 non-null   float64\n",
            " 4   superhost         1103 non-null   bool   \n",
            " 5   nota_limpeza      1103 non-null   float64\n",
            " 6   satisfacao        1103 non-null   float64\n",
            " 7   quartos           1103 non-null   int64  \n",
            " 8   distancia_centro  1103 non-null   float64\n",
            " 9   distancia_metro   1103 non-null   float64\n",
            "dtypes: bool(1), float64(6), int64(1), object(2)\n",
            "memory usage: 78.8+ KB\n"
          ]
        }
      ]
    },
    {
      "cell_type": "code",
      "source": [
        "filtro_comp = (df.tipo_quarto == 'Quarto compartilhado')\n",
        "filtro_priv = (df.tipo_quarto == 'Quarto privado')\n",
        "filtro_casa_apt = (df.tipo_quarto == 'Casa inteira/Apt')\n",
        "filtro_zero = df.quartos.isin([0])\n",
        "\n",
        "dfzero = df.loc[filtro_priv & filtro_zero]\n",
        "dfzero1 = df.loc[filtro_casa_apt & filtro_zero]\n",
        "\n",
        "print(dfzero.groupby(['quartos']).size().sort_values(ascending=False))\n",
        "print(dfzero1.groupby(['quartos']).size().sort_values(ascending=False))\n",
        "\n",
        "# Quarto privado = 54 quartos zerados\n",
        "# Casa inteira = 29 quartos zerados\n",
        "# Após pesquisas, foi encontrado que 0 quartos são Estudios"
      ],
      "metadata": {
        "colab": {
          "base_uri": "https://localhost:8080/"
        },
        "id": "_uGa9QCEhLYw",
        "outputId": "3f07d282-70dd-40b8-86ff-a7ec313891a5"
      },
      "execution_count": null,
      "outputs": [
        {
          "output_type": "stream",
          "name": "stdout",
          "text": [
            "quartos\n",
            "0    54\n",
            "dtype: int64\n",
            "quartos\n",
            "0    29\n",
            "dtype: int64\n"
          ]
        }
      ]
    },
    {
      "cell_type": "code",
      "source": [
        "# Renoameando os quartos com 0 quartos para Estudio\n",
        "\n",
        "for i, valor in enumerate(df['quartos']):\n",
        "    if valor == 0:\n",
        "        df.loc[i, 'tipo_quarto'] = df.loc[i, 'tipo_quarto'].replace(\"Quarto privado\", \"Estudio\")\n",
        "    else:\n",
        "        pass\n",
        "\n",
        "for i, valor in enumerate(df['quartos']):\n",
        "    if valor == 0:\n",
        "        df.loc[i, 'tipo_quarto'] = df.loc[i, 'tipo_quarto'].replace(\"Casa inteira/Apt\", \"Estudio\")\n",
        "    else:\n",
        "        pass\n"
      ],
      "metadata": {
        "id": "shDrS3WfmVfD"
      },
      "execution_count": null,
      "outputs": []
    },
    {
      "cell_type": "code",
      "source": [
        "# Contagem de tipos de quarto\n",
        "df['tipo_quarto'].value_counts()"
      ],
      "metadata": {
        "colab": {
          "base_uri": "https://localhost:8080/"
        },
        "id": "O-ezM-KfoT1I",
        "outputId": "158f52d0-47db-418f-b447-46f691bfd8ce"
      },
      "execution_count": null,
      "outputs": [
        {
          "output_type": "execute_result",
          "data": {
            "text/plain": [
              "Casa inteira/Apt        509\n",
              "Quarto privado          505\n",
              "Estudio                  83\n",
              "Quarto compartilhado      6\n",
              "Name: tipo_quarto, dtype: int64"
            ]
          },
          "metadata": {},
          "execution_count": 117
        }
      ]
    },
    {
      "cell_type": "markdown",
      "source": [
        "## **Qualidade dos Dados**"
      ],
      "metadata": {
        "id": "neo-qrfMowFf"
      }
    },
    {
      "cell_type": "code",
      "source": [
        "# Visualizando a integridade do DB\n",
        "df.sample(10)"
      ],
      "metadata": {
        "colab": {
          "base_uri": "https://localhost:8080/",
          "height": 424
        },
        "id": "hYQqwjgqgAsL",
        "outputId": "4aa25d31-0311-4272-8e8b-704682328678"
      },
      "execution_count": null,
      "outputs": [
        {
          "output_type": "execute_result",
          "data": {
            "text/plain": [
              "      id  preco_total       tipo_quarto  capacidade  superhost  nota_limpeza  \\\n",
              "313  313   299.721135    Quarto privado         2.0      False          10.0   \n",
              "627  627   528.437185    Quarto privado         2.0      False           4.0   \n",
              "406  406   280.036557    Quarto privado         2.0       True          10.0   \n",
              "65    65   330.419703  Casa inteira/Apt         2.0      False          10.0   \n",
              "306  306   555.386310    Quarto privado         3.0       True          10.0   \n",
              "343  343   268.085206           Estudio         2.0       True          10.0   \n",
              "741  741   300.892836    Quarto privado         2.0      False          10.0   \n",
              "870  870   258.008577    Quarto privado         2.0       True          10.0   \n",
              "816  816   504.065803    Quarto privado         4.0      False          10.0   \n",
              "447  447   393.457221    Quarto privado         2.0       True          10.0   \n",
              "\n",
              "     satisfacao  quartos  distancia_centro  distancia_metro  \n",
              "313       100.0        1          3.812821         1.110847  \n",
              "627        47.0        1          3.809663         0.417682  \n",
              "406        96.0        1          4.593248         0.723128  \n",
              "65         98.0        1          2.564052         1.248153  \n",
              "306        96.0        1          0.397129         0.424970  \n",
              "343        99.0        0          8.396194         3.349574  \n",
              "741        91.0        1          1.367826         1.478442  \n",
              "870        98.0        1          1.885696         0.289653  \n",
              "816        91.0        1          1.423924         0.108940  \n",
              "447       100.0        1          7.325871         3.513990  "
            ],
            "text/html": [
              "\n",
              "  <div id=\"df-b589d6bd-2eb2-4377-b2d4-1b4f2537574d\">\n",
              "    <div class=\"colab-df-container\">\n",
              "      <div>\n",
              "<style scoped>\n",
              "    .dataframe tbody tr th:only-of-type {\n",
              "        vertical-align: middle;\n",
              "    }\n",
              "\n",
              "    .dataframe tbody tr th {\n",
              "        vertical-align: top;\n",
              "    }\n",
              "\n",
              "    .dataframe thead th {\n",
              "        text-align: right;\n",
              "    }\n",
              "</style>\n",
              "<table border=\"1\" class=\"dataframe\">\n",
              "  <thead>\n",
              "    <tr style=\"text-align: right;\">\n",
              "      <th></th>\n",
              "      <th>id</th>\n",
              "      <th>preco_total</th>\n",
              "      <th>tipo_quarto</th>\n",
              "      <th>capacidade</th>\n",
              "      <th>superhost</th>\n",
              "      <th>nota_limpeza</th>\n",
              "      <th>satisfacao</th>\n",
              "      <th>quartos</th>\n",
              "      <th>distancia_centro</th>\n",
              "      <th>distancia_metro</th>\n",
              "    </tr>\n",
              "  </thead>\n",
              "  <tbody>\n",
              "    <tr>\n",
              "      <th>313</th>\n",
              "      <td>313</td>\n",
              "      <td>299.721135</td>\n",
              "      <td>Quarto privado</td>\n",
              "      <td>2.0</td>\n",
              "      <td>False</td>\n",
              "      <td>10.0</td>\n",
              "      <td>100.0</td>\n",
              "      <td>1</td>\n",
              "      <td>3.812821</td>\n",
              "      <td>1.110847</td>\n",
              "    </tr>\n",
              "    <tr>\n",
              "      <th>627</th>\n",
              "      <td>627</td>\n",
              "      <td>528.437185</td>\n",
              "      <td>Quarto privado</td>\n",
              "      <td>2.0</td>\n",
              "      <td>False</td>\n",
              "      <td>4.0</td>\n",
              "      <td>47.0</td>\n",
              "      <td>1</td>\n",
              "      <td>3.809663</td>\n",
              "      <td>0.417682</td>\n",
              "    </tr>\n",
              "    <tr>\n",
              "      <th>406</th>\n",
              "      <td>406</td>\n",
              "      <td>280.036557</td>\n",
              "      <td>Quarto privado</td>\n",
              "      <td>2.0</td>\n",
              "      <td>True</td>\n",
              "      <td>10.0</td>\n",
              "      <td>96.0</td>\n",
              "      <td>1</td>\n",
              "      <td>4.593248</td>\n",
              "      <td>0.723128</td>\n",
              "    </tr>\n",
              "    <tr>\n",
              "      <th>65</th>\n",
              "      <td>65</td>\n",
              "      <td>330.419703</td>\n",
              "      <td>Casa inteira/Apt</td>\n",
              "      <td>2.0</td>\n",
              "      <td>False</td>\n",
              "      <td>10.0</td>\n",
              "      <td>98.0</td>\n",
              "      <td>1</td>\n",
              "      <td>2.564052</td>\n",
              "      <td>1.248153</td>\n",
              "    </tr>\n",
              "    <tr>\n",
              "      <th>306</th>\n",
              "      <td>306</td>\n",
              "      <td>555.386310</td>\n",
              "      <td>Quarto privado</td>\n",
              "      <td>3.0</td>\n",
              "      <td>True</td>\n",
              "      <td>10.0</td>\n",
              "      <td>96.0</td>\n",
              "      <td>1</td>\n",
              "      <td>0.397129</td>\n",
              "      <td>0.424970</td>\n",
              "    </tr>\n",
              "    <tr>\n",
              "      <th>343</th>\n",
              "      <td>343</td>\n",
              "      <td>268.085206</td>\n",
              "      <td>Estudio</td>\n",
              "      <td>2.0</td>\n",
              "      <td>True</td>\n",
              "      <td>10.0</td>\n",
              "      <td>99.0</td>\n",
              "      <td>0</td>\n",
              "      <td>8.396194</td>\n",
              "      <td>3.349574</td>\n",
              "    </tr>\n",
              "    <tr>\n",
              "      <th>741</th>\n",
              "      <td>741</td>\n",
              "      <td>300.892836</td>\n",
              "      <td>Quarto privado</td>\n",
              "      <td>2.0</td>\n",
              "      <td>False</td>\n",
              "      <td>10.0</td>\n",
              "      <td>91.0</td>\n",
              "      <td>1</td>\n",
              "      <td>1.367826</td>\n",
              "      <td>1.478442</td>\n",
              "    </tr>\n",
              "    <tr>\n",
              "      <th>870</th>\n",
              "      <td>870</td>\n",
              "      <td>258.008577</td>\n",
              "      <td>Quarto privado</td>\n",
              "      <td>2.0</td>\n",
              "      <td>True</td>\n",
              "      <td>10.0</td>\n",
              "      <td>98.0</td>\n",
              "      <td>1</td>\n",
              "      <td>1.885696</td>\n",
              "      <td>0.289653</td>\n",
              "    </tr>\n",
              "    <tr>\n",
              "      <th>816</th>\n",
              "      <td>816</td>\n",
              "      <td>504.065803</td>\n",
              "      <td>Quarto privado</td>\n",
              "      <td>4.0</td>\n",
              "      <td>False</td>\n",
              "      <td>10.0</td>\n",
              "      <td>91.0</td>\n",
              "      <td>1</td>\n",
              "      <td>1.423924</td>\n",
              "      <td>0.108940</td>\n",
              "    </tr>\n",
              "    <tr>\n",
              "      <th>447</th>\n",
              "      <td>447</td>\n",
              "      <td>393.457221</td>\n",
              "      <td>Quarto privado</td>\n",
              "      <td>2.0</td>\n",
              "      <td>True</td>\n",
              "      <td>10.0</td>\n",
              "      <td>100.0</td>\n",
              "      <td>1</td>\n",
              "      <td>7.325871</td>\n",
              "      <td>3.513990</td>\n",
              "    </tr>\n",
              "  </tbody>\n",
              "</table>\n",
              "</div>\n",
              "      <button class=\"colab-df-convert\" onclick=\"convertToInteractive('df-b589d6bd-2eb2-4377-b2d4-1b4f2537574d')\"\n",
              "              title=\"Convert this dataframe to an interactive table.\"\n",
              "              style=\"display:none;\">\n",
              "        \n",
              "  <svg xmlns=\"http://www.w3.org/2000/svg\" height=\"24px\"viewBox=\"0 0 24 24\"\n",
              "       width=\"24px\">\n",
              "    <path d=\"M0 0h24v24H0V0z\" fill=\"none\"/>\n",
              "    <path d=\"M18.56 5.44l.94 2.06.94-2.06 2.06-.94-2.06-.94-.94-2.06-.94 2.06-2.06.94zm-11 1L8.5 8.5l.94-2.06 2.06-.94-2.06-.94L8.5 2.5l-.94 2.06-2.06.94zm10 10l.94 2.06.94-2.06 2.06-.94-2.06-.94-.94-2.06-.94 2.06-2.06.94z\"/><path d=\"M17.41 7.96l-1.37-1.37c-.4-.4-.92-.59-1.43-.59-.52 0-1.04.2-1.43.59L10.3 9.45l-7.72 7.72c-.78.78-.78 2.05 0 2.83L4 21.41c.39.39.9.59 1.41.59.51 0 1.02-.2 1.41-.59l7.78-7.78 2.81-2.81c.8-.78.8-2.07 0-2.86zM5.41 20L4 18.59l7.72-7.72 1.47 1.35L5.41 20z\"/>\n",
              "  </svg>\n",
              "      </button>\n",
              "      \n",
              "  <style>\n",
              "    .colab-df-container {\n",
              "      display:flex;\n",
              "      flex-wrap:wrap;\n",
              "      gap: 12px;\n",
              "    }\n",
              "\n",
              "    .colab-df-convert {\n",
              "      background-color: #E8F0FE;\n",
              "      border: none;\n",
              "      border-radius: 50%;\n",
              "      cursor: pointer;\n",
              "      display: none;\n",
              "      fill: #1967D2;\n",
              "      height: 32px;\n",
              "      padding: 0 0 0 0;\n",
              "      width: 32px;\n",
              "    }\n",
              "\n",
              "    .colab-df-convert:hover {\n",
              "      background-color: #E2EBFA;\n",
              "      box-shadow: 0px 1px 2px rgba(60, 64, 67, 0.3), 0px 1px 3px 1px rgba(60, 64, 67, 0.15);\n",
              "      fill: #174EA6;\n",
              "    }\n",
              "\n",
              "    [theme=dark] .colab-df-convert {\n",
              "      background-color: #3B4455;\n",
              "      fill: #D2E3FC;\n",
              "    }\n",
              "\n",
              "    [theme=dark] .colab-df-convert:hover {\n",
              "      background-color: #434B5C;\n",
              "      box-shadow: 0px 1px 3px 1px rgba(0, 0, 0, 0.15);\n",
              "      filter: drop-shadow(0px 1px 2px rgba(0, 0, 0, 0.3));\n",
              "      fill: #FFFFFF;\n",
              "    }\n",
              "  </style>\n",
              "\n",
              "      <script>\n",
              "        const buttonEl =\n",
              "          document.querySelector('#df-b589d6bd-2eb2-4377-b2d4-1b4f2537574d button.colab-df-convert');\n",
              "        buttonEl.style.display =\n",
              "          google.colab.kernel.accessAllowed ? 'block' : 'none';\n",
              "\n",
              "        async function convertToInteractive(key) {\n",
              "          const element = document.querySelector('#df-b589d6bd-2eb2-4377-b2d4-1b4f2537574d');\n",
              "          const dataTable =\n",
              "            await google.colab.kernel.invokeFunction('convertToInteractive',\n",
              "                                                     [key], {});\n",
              "          if (!dataTable) return;\n",
              "\n",
              "          const docLinkHtml = 'Like what you see? Visit the ' +\n",
              "            '<a target=\"_blank\" href=https://colab.research.google.com/notebooks/data_table.ipynb>data table notebook</a>'\n",
              "            + ' to learn more about interactive tables.';\n",
              "          element.innerHTML = '';\n",
              "          dataTable['output_type'] = 'display_data';\n",
              "          await google.colab.output.renderOutput(dataTable, element);\n",
              "          const docLink = document.createElement('div');\n",
              "          docLink.innerHTML = docLinkHtml;\n",
              "          element.appendChild(docLink);\n",
              "        }\n",
              "      </script>\n",
              "    </div>\n",
              "  </div>\n",
              "  "
            ]
          },
          "metadata": {},
          "execution_count": 118
        }
      ]
    },
    {
      "cell_type": "code",
      "source": [
        "# Verificando tipo de dados do dataframe para validação schema\n",
        "df.dtypes"
      ],
      "metadata": {
        "colab": {
          "base_uri": "https://localhost:8080/"
        },
        "id": "3ddERYgrowfc",
        "outputId": "74c6f997-2dbd-4b6c-c355-13f457b0b844"
      },
      "execution_count": null,
      "outputs": [
        {
          "output_type": "execute_result",
          "data": {
            "text/plain": [
              "id                   object\n",
              "preco_total         float64\n",
              "tipo_quarto          object\n",
              "capacidade          float64\n",
              "superhost              bool\n",
              "nota_limpeza        float64\n",
              "satisfacao          float64\n",
              "quartos               int64\n",
              "distancia_centro    float64\n",
              "distancia_metro     float64\n",
              "dtype: object"
            ]
          },
          "metadata": {},
          "execution_count": 119
        }
      ]
    },
    {
      "cell_type": "code",
      "source": [
        "# Validação Schema\n",
        "schema = pa.DataFrameSchema({'id': pa.Column(pa.String),\n",
        "                            'preco_total': pa.Column(pa.Float),\n",
        "                            'tipo_quarto': pa.Column(pa.String),\n",
        "                            'capacidade': pa.Column(pa.Float),\n",
        "                            'superhost': pa.Column(pa.Bool),\n",
        "                            'nota_limpeza': pa.Column(pa.Float),\n",
        "                            'satisfacao': pa.Column(pa.Float),\n",
        "                            'quartos': pa.Column(pa.Int),\n",
        "                            'distancia_centro': pa.Column(pa.Float),\n",
        "                            'distancia_metro': pa.Column(pa.Float)\n",
        "                            })\n",
        "\n",
        "# Validando o DataFrame\n",
        "schema.validate(df)"
      ],
      "metadata": {
        "colab": {
          "base_uri": "https://localhost:8080/",
          "height": 661
        },
        "id": "_gigZCrmpCOA",
        "outputId": "e8d456a8-0179-4f93-a251-424a1e64a3b8"
      },
      "execution_count": null,
      "outputs": [
        {
          "output_type": "execute_result",
          "data": {
            "text/plain": [
              "        id  preco_total           tipo_quarto  capacidade  superhost  \\\n",
              "0        0   194.033698        Quarto privado         2.0      False   \n",
              "1        1   344.245776        Quarto privado         4.0      False   \n",
              "2        2   264.101422        Quarto privado         2.0      False   \n",
              "3        3   433.529398        Quarto privado         4.0      False   \n",
              "4        4   485.552926        Quarto privado         2.0       True   \n",
              "...    ...          ...                   ...         ...        ...   \n",
              "1098  1098  2486.115342      Casa inteira/Apt         2.0      False   \n",
              "1099  1099   233.637194        Quarto privado         2.0      False   \n",
              "1100  1100   317.062311        Quarto privado         2.0      False   \n",
              "1101  1101  1812.855904      Casa inteira/Apt         4.0      False   \n",
              "1102  1102   258.008577  Quarto compartilhado         2.0      False   \n",
              "\n",
              "      nota_limpeza  satisfacao  quartos  distancia_centro  distancia_metro  \n",
              "0             10.0        93.0        1          5.022964         2.539380  \n",
              "1              8.0        85.0        1          0.488389         0.239404  \n",
              "2              9.0        87.0        1          5.748312         3.651621  \n",
              "3              9.0        90.0        2          0.384862         0.439876  \n",
              "4             10.0        98.0        1          0.544738         0.318693  \n",
              "...            ...         ...      ...               ...              ...  \n",
              "1098          10.0       100.0        1          2.375833         1.436054  \n",
              "1099          10.0        90.0        1          4.719736         0.322263  \n",
              "1100          10.0        92.0        1          0.598355         0.751993  \n",
              "1101           8.0        84.0        5          1.943020         0.388532  \n",
              "1102           8.0        90.0        1          0.280204         0.516217  \n",
              "\n",
              "[1103 rows x 10 columns]"
            ],
            "text/html": [
              "\n",
              "  <div id=\"df-06f9278d-ec0c-4b84-8a82-593e257db95b\">\n",
              "    <div class=\"colab-df-container\">\n",
              "      <div>\n",
              "<style scoped>\n",
              "    .dataframe tbody tr th:only-of-type {\n",
              "        vertical-align: middle;\n",
              "    }\n",
              "\n",
              "    .dataframe tbody tr th {\n",
              "        vertical-align: top;\n",
              "    }\n",
              "\n",
              "    .dataframe thead th {\n",
              "        text-align: right;\n",
              "    }\n",
              "</style>\n",
              "<table border=\"1\" class=\"dataframe\">\n",
              "  <thead>\n",
              "    <tr style=\"text-align: right;\">\n",
              "      <th></th>\n",
              "      <th>id</th>\n",
              "      <th>preco_total</th>\n",
              "      <th>tipo_quarto</th>\n",
              "      <th>capacidade</th>\n",
              "      <th>superhost</th>\n",
              "      <th>nota_limpeza</th>\n",
              "      <th>satisfacao</th>\n",
              "      <th>quartos</th>\n",
              "      <th>distancia_centro</th>\n",
              "      <th>distancia_metro</th>\n",
              "    </tr>\n",
              "  </thead>\n",
              "  <tbody>\n",
              "    <tr>\n",
              "      <th>0</th>\n",
              "      <td>0</td>\n",
              "      <td>194.033698</td>\n",
              "      <td>Quarto privado</td>\n",
              "      <td>2.0</td>\n",
              "      <td>False</td>\n",
              "      <td>10.0</td>\n",
              "      <td>93.0</td>\n",
              "      <td>1</td>\n",
              "      <td>5.022964</td>\n",
              "      <td>2.539380</td>\n",
              "    </tr>\n",
              "    <tr>\n",
              "      <th>1</th>\n",
              "      <td>1</td>\n",
              "      <td>344.245776</td>\n",
              "      <td>Quarto privado</td>\n",
              "      <td>4.0</td>\n",
              "      <td>False</td>\n",
              "      <td>8.0</td>\n",
              "      <td>85.0</td>\n",
              "      <td>1</td>\n",
              "      <td>0.488389</td>\n",
              "      <td>0.239404</td>\n",
              "    </tr>\n",
              "    <tr>\n",
              "      <th>2</th>\n",
              "      <td>2</td>\n",
              "      <td>264.101422</td>\n",
              "      <td>Quarto privado</td>\n",
              "      <td>2.0</td>\n",
              "      <td>False</td>\n",
              "      <td>9.0</td>\n",
              "      <td>87.0</td>\n",
              "      <td>1</td>\n",
              "      <td>5.748312</td>\n",
              "      <td>3.651621</td>\n",
              "    </tr>\n",
              "    <tr>\n",
              "      <th>3</th>\n",
              "      <td>3</td>\n",
              "      <td>433.529398</td>\n",
              "      <td>Quarto privado</td>\n",
              "      <td>4.0</td>\n",
              "      <td>False</td>\n",
              "      <td>9.0</td>\n",
              "      <td>90.0</td>\n",
              "      <td>2</td>\n",
              "      <td>0.384862</td>\n",
              "      <td>0.439876</td>\n",
              "    </tr>\n",
              "    <tr>\n",
              "      <th>4</th>\n",
              "      <td>4</td>\n",
              "      <td>485.552926</td>\n",
              "      <td>Quarto privado</td>\n",
              "      <td>2.0</td>\n",
              "      <td>True</td>\n",
              "      <td>10.0</td>\n",
              "      <td>98.0</td>\n",
              "      <td>1</td>\n",
              "      <td>0.544738</td>\n",
              "      <td>0.318693</td>\n",
              "    </tr>\n",
              "    <tr>\n",
              "      <th>...</th>\n",
              "      <td>...</td>\n",
              "      <td>...</td>\n",
              "      <td>...</td>\n",
              "      <td>...</td>\n",
              "      <td>...</td>\n",
              "      <td>...</td>\n",
              "      <td>...</td>\n",
              "      <td>...</td>\n",
              "      <td>...</td>\n",
              "      <td>...</td>\n",
              "    </tr>\n",
              "    <tr>\n",
              "      <th>1098</th>\n",
              "      <td>1098</td>\n",
              "      <td>2486.115342</td>\n",
              "      <td>Casa inteira/Apt</td>\n",
              "      <td>2.0</td>\n",
              "      <td>False</td>\n",
              "      <td>10.0</td>\n",
              "      <td>100.0</td>\n",
              "      <td>1</td>\n",
              "      <td>2.375833</td>\n",
              "      <td>1.436054</td>\n",
              "    </tr>\n",
              "    <tr>\n",
              "      <th>1099</th>\n",
              "      <td>1099</td>\n",
              "      <td>233.637194</td>\n",
              "      <td>Quarto privado</td>\n",
              "      <td>2.0</td>\n",
              "      <td>False</td>\n",
              "      <td>10.0</td>\n",
              "      <td>90.0</td>\n",
              "      <td>1</td>\n",
              "      <td>4.719736</td>\n",
              "      <td>0.322263</td>\n",
              "    </tr>\n",
              "    <tr>\n",
              "      <th>1100</th>\n",
              "      <td>1100</td>\n",
              "      <td>317.062311</td>\n",
              "      <td>Quarto privado</td>\n",
              "      <td>2.0</td>\n",
              "      <td>False</td>\n",
              "      <td>10.0</td>\n",
              "      <td>92.0</td>\n",
              "      <td>1</td>\n",
              "      <td>0.598355</td>\n",
              "      <td>0.751993</td>\n",
              "    </tr>\n",
              "    <tr>\n",
              "      <th>1101</th>\n",
              "      <td>1101</td>\n",
              "      <td>1812.855904</td>\n",
              "      <td>Casa inteira/Apt</td>\n",
              "      <td>4.0</td>\n",
              "      <td>False</td>\n",
              "      <td>8.0</td>\n",
              "      <td>84.0</td>\n",
              "      <td>5</td>\n",
              "      <td>1.943020</td>\n",
              "      <td>0.388532</td>\n",
              "    </tr>\n",
              "    <tr>\n",
              "      <th>1102</th>\n",
              "      <td>1102</td>\n",
              "      <td>258.008577</td>\n",
              "      <td>Quarto compartilhado</td>\n",
              "      <td>2.0</td>\n",
              "      <td>False</td>\n",
              "      <td>8.0</td>\n",
              "      <td>90.0</td>\n",
              "      <td>1</td>\n",
              "      <td>0.280204</td>\n",
              "      <td>0.516217</td>\n",
              "    </tr>\n",
              "  </tbody>\n",
              "</table>\n",
              "<p>1103 rows × 10 columns</p>\n",
              "</div>\n",
              "      <button class=\"colab-df-convert\" onclick=\"convertToInteractive('df-06f9278d-ec0c-4b84-8a82-593e257db95b')\"\n",
              "              title=\"Convert this dataframe to an interactive table.\"\n",
              "              style=\"display:none;\">\n",
              "        \n",
              "  <svg xmlns=\"http://www.w3.org/2000/svg\" height=\"24px\"viewBox=\"0 0 24 24\"\n",
              "       width=\"24px\">\n",
              "    <path d=\"M0 0h24v24H0V0z\" fill=\"none\"/>\n",
              "    <path d=\"M18.56 5.44l.94 2.06.94-2.06 2.06-.94-2.06-.94-.94-2.06-.94 2.06-2.06.94zm-11 1L8.5 8.5l.94-2.06 2.06-.94-2.06-.94L8.5 2.5l-.94 2.06-2.06.94zm10 10l.94 2.06.94-2.06 2.06-.94-2.06-.94-.94-2.06-.94 2.06-2.06.94z\"/><path d=\"M17.41 7.96l-1.37-1.37c-.4-.4-.92-.59-1.43-.59-.52 0-1.04.2-1.43.59L10.3 9.45l-7.72 7.72c-.78.78-.78 2.05 0 2.83L4 21.41c.39.39.9.59 1.41.59.51 0 1.02-.2 1.41-.59l7.78-7.78 2.81-2.81c.8-.78.8-2.07 0-2.86zM5.41 20L4 18.59l7.72-7.72 1.47 1.35L5.41 20z\"/>\n",
              "  </svg>\n",
              "      </button>\n",
              "      \n",
              "  <style>\n",
              "    .colab-df-container {\n",
              "      display:flex;\n",
              "      flex-wrap:wrap;\n",
              "      gap: 12px;\n",
              "    }\n",
              "\n",
              "    .colab-df-convert {\n",
              "      background-color: #E8F0FE;\n",
              "      border: none;\n",
              "      border-radius: 50%;\n",
              "      cursor: pointer;\n",
              "      display: none;\n",
              "      fill: #1967D2;\n",
              "      height: 32px;\n",
              "      padding: 0 0 0 0;\n",
              "      width: 32px;\n",
              "    }\n",
              "\n",
              "    .colab-df-convert:hover {\n",
              "      background-color: #E2EBFA;\n",
              "      box-shadow: 0px 1px 2px rgba(60, 64, 67, 0.3), 0px 1px 3px 1px rgba(60, 64, 67, 0.15);\n",
              "      fill: #174EA6;\n",
              "    }\n",
              "\n",
              "    [theme=dark] .colab-df-convert {\n",
              "      background-color: #3B4455;\n",
              "      fill: #D2E3FC;\n",
              "    }\n",
              "\n",
              "    [theme=dark] .colab-df-convert:hover {\n",
              "      background-color: #434B5C;\n",
              "      box-shadow: 0px 1px 3px 1px rgba(0, 0, 0, 0.15);\n",
              "      filter: drop-shadow(0px 1px 2px rgba(0, 0, 0, 0.3));\n",
              "      fill: #FFFFFF;\n",
              "    }\n",
              "  </style>\n",
              "\n",
              "      <script>\n",
              "        const buttonEl =\n",
              "          document.querySelector('#df-06f9278d-ec0c-4b84-8a82-593e257db95b button.colab-df-convert');\n",
              "        buttonEl.style.display =\n",
              "          google.colab.kernel.accessAllowed ? 'block' : 'none';\n",
              "\n",
              "        async function convertToInteractive(key) {\n",
              "          const element = document.querySelector('#df-06f9278d-ec0c-4b84-8a82-593e257db95b');\n",
              "          const dataTable =\n",
              "            await google.colab.kernel.invokeFunction('convertToInteractive',\n",
              "                                                     [key], {});\n",
              "          if (!dataTable) return;\n",
              "\n",
              "          const docLinkHtml = 'Like what you see? Visit the ' +\n",
              "            '<a target=\"_blank\" href=https://colab.research.google.com/notebooks/data_table.ipynb>data table notebook</a>'\n",
              "            + ' to learn more about interactive tables.';\n",
              "          element.innerHTML = '';\n",
              "          dataTable['output_type'] = 'display_data';\n",
              "          await google.colab.output.renderOutput(dataTable, element);\n",
              "          const docLink = document.createElement('div');\n",
              "          docLink.innerHTML = docLinkHtml;\n",
              "          element.appendChild(docLink);\n",
              "        }\n",
              "      </script>\n",
              "    </div>\n",
              "  </div>\n",
              "  "
            ]
          },
          "metadata": {},
          "execution_count": 120
        }
      ]
    },
    {
      "cell_type": "code",
      "source": [
        "# Criando Backup do DB já tratado e verificado\n",
        "dfbackup2 = df.copy()"
      ],
      "metadata": {
        "id": "0th_Szwyp3em"
      },
      "execution_count": null,
      "outputs": []
    },
    {
      "cell_type": "markdown",
      "source": [
        "## **Carregamento**"
      ],
      "metadata": {
        "id": "s-DemqjIqE5W"
      }
    },
    {
      "cell_type": "code",
      "source": [
        "# Google Cloud - Utilizar se for o rotulo padrão (Salvando no Cloud com o nome Airbnb_Tratado)\n",
        "df.to_csv('gs://projetos-soulcode/Tratado/airbnb_tratado.csv',index=False)"
      ],
      "metadata": {
        "id": "Qxem1lm5qH9B"
      },
      "execution_count": null,
      "outputs": []
    },
    {
      "cell_type": "markdown",
      "source": [
        "# **Análises**"
      ],
      "metadata": {
        "id": "Bslzx6qiqbjP"
      }
    },
    {
      "cell_type": "markdown",
      "source": [
        "## **Medidas Descritivas**"
      ],
      "metadata": {
        "id": "bq1UVBQCPDEB"
      }
    },
    {
      "cell_type": "code",
      "source": [
        "# Verificando as medidas do DataFrame\n",
        "df.describe()"
      ],
      "metadata": {
        "colab": {
          "base_uri": "https://localhost:8080/",
          "height": 300
        },
        "id": "nctgdZ65PH0v",
        "outputId": "e868cf32-43a3-4112-ce91-3211656e1bee"
      },
      "execution_count": null,
      "outputs": [
        {
          "output_type": "execute_result",
          "data": {
            "text/plain": [
              "       preco_total   capacidade  nota_limpeza   satisfacao      quartos  \\\n",
              "count  1103.000000  1103.000000   1103.000000  1103.000000  1103.000000   \n",
              "mean    545.020526     2.792384      9.461469    94.362647     1.282865   \n",
              "std     416.974314     1.044151      0.798201     6.089691     0.740178   \n",
              "min     128.887118     2.000000      4.000000    20.000000     0.000000   \n",
              "25%     309.797764     2.000000      9.000000    92.000000     1.000000   \n",
              "50%     430.248635     2.000000     10.000000    96.000000     1.000000   \n",
              "75%     657.324303     4.000000     10.000000    98.000000     2.000000   \n",
              "max    7782.907225     6.000000     10.000000   100.000000     5.000000   \n",
              "\n",
              "       distancia_centro  distancia_metro  \n",
              "count       1103.000000      1103.000000  \n",
              "mean           2.841621         1.089439  \n",
              "std            2.123245         0.836546  \n",
              "min            0.015059         0.036530  \n",
              "25%            1.302058         0.462983  \n",
              "50%            2.341366         0.856010  \n",
              "75%            3.648138         1.510629  \n",
              "max           11.187100         4.411915  "
            ],
            "text/html": [
              "\n",
              "  <div id=\"df-aee9bdc1-d8c1-45d5-995a-43a780285c8a\">\n",
              "    <div class=\"colab-df-container\">\n",
              "      <div>\n",
              "<style scoped>\n",
              "    .dataframe tbody tr th:only-of-type {\n",
              "        vertical-align: middle;\n",
              "    }\n",
              "\n",
              "    .dataframe tbody tr th {\n",
              "        vertical-align: top;\n",
              "    }\n",
              "\n",
              "    .dataframe thead th {\n",
              "        text-align: right;\n",
              "    }\n",
              "</style>\n",
              "<table border=\"1\" class=\"dataframe\">\n",
              "  <thead>\n",
              "    <tr style=\"text-align: right;\">\n",
              "      <th></th>\n",
              "      <th>preco_total</th>\n",
              "      <th>capacidade</th>\n",
              "      <th>nota_limpeza</th>\n",
              "      <th>satisfacao</th>\n",
              "      <th>quartos</th>\n",
              "      <th>distancia_centro</th>\n",
              "      <th>distancia_metro</th>\n",
              "    </tr>\n",
              "  </thead>\n",
              "  <tbody>\n",
              "    <tr>\n",
              "      <th>count</th>\n",
              "      <td>1103.000000</td>\n",
              "      <td>1103.000000</td>\n",
              "      <td>1103.000000</td>\n",
              "      <td>1103.000000</td>\n",
              "      <td>1103.000000</td>\n",
              "      <td>1103.000000</td>\n",
              "      <td>1103.000000</td>\n",
              "    </tr>\n",
              "    <tr>\n",
              "      <th>mean</th>\n",
              "      <td>545.020526</td>\n",
              "      <td>2.792384</td>\n",
              "      <td>9.461469</td>\n",
              "      <td>94.362647</td>\n",
              "      <td>1.282865</td>\n",
              "      <td>2.841621</td>\n",
              "      <td>1.089439</td>\n",
              "    </tr>\n",
              "    <tr>\n",
              "      <th>std</th>\n",
              "      <td>416.974314</td>\n",
              "      <td>1.044151</td>\n",
              "      <td>0.798201</td>\n",
              "      <td>6.089691</td>\n",
              "      <td>0.740178</td>\n",
              "      <td>2.123245</td>\n",
              "      <td>0.836546</td>\n",
              "    </tr>\n",
              "    <tr>\n",
              "      <th>min</th>\n",
              "      <td>128.887118</td>\n",
              "      <td>2.000000</td>\n",
              "      <td>4.000000</td>\n",
              "      <td>20.000000</td>\n",
              "      <td>0.000000</td>\n",
              "      <td>0.015059</td>\n",
              "      <td>0.036530</td>\n",
              "    </tr>\n",
              "    <tr>\n",
              "      <th>25%</th>\n",
              "      <td>309.797764</td>\n",
              "      <td>2.000000</td>\n",
              "      <td>9.000000</td>\n",
              "      <td>92.000000</td>\n",
              "      <td>1.000000</td>\n",
              "      <td>1.302058</td>\n",
              "      <td>0.462983</td>\n",
              "    </tr>\n",
              "    <tr>\n",
              "      <th>50%</th>\n",
              "      <td>430.248635</td>\n",
              "      <td>2.000000</td>\n",
              "      <td>10.000000</td>\n",
              "      <td>96.000000</td>\n",
              "      <td>1.000000</td>\n",
              "      <td>2.341366</td>\n",
              "      <td>0.856010</td>\n",
              "    </tr>\n",
              "    <tr>\n",
              "      <th>75%</th>\n",
              "      <td>657.324303</td>\n",
              "      <td>4.000000</td>\n",
              "      <td>10.000000</td>\n",
              "      <td>98.000000</td>\n",
              "      <td>2.000000</td>\n",
              "      <td>3.648138</td>\n",
              "      <td>1.510629</td>\n",
              "    </tr>\n",
              "    <tr>\n",
              "      <th>max</th>\n",
              "      <td>7782.907225</td>\n",
              "      <td>6.000000</td>\n",
              "      <td>10.000000</td>\n",
              "      <td>100.000000</td>\n",
              "      <td>5.000000</td>\n",
              "      <td>11.187100</td>\n",
              "      <td>4.411915</td>\n",
              "    </tr>\n",
              "  </tbody>\n",
              "</table>\n",
              "</div>\n",
              "      <button class=\"colab-df-convert\" onclick=\"convertToInteractive('df-aee9bdc1-d8c1-45d5-995a-43a780285c8a')\"\n",
              "              title=\"Convert this dataframe to an interactive table.\"\n",
              "              style=\"display:none;\">\n",
              "        \n",
              "  <svg xmlns=\"http://www.w3.org/2000/svg\" height=\"24px\"viewBox=\"0 0 24 24\"\n",
              "       width=\"24px\">\n",
              "    <path d=\"M0 0h24v24H0V0z\" fill=\"none\"/>\n",
              "    <path d=\"M18.56 5.44l.94 2.06.94-2.06 2.06-.94-2.06-.94-.94-2.06-.94 2.06-2.06.94zm-11 1L8.5 8.5l.94-2.06 2.06-.94-2.06-.94L8.5 2.5l-.94 2.06-2.06.94zm10 10l.94 2.06.94-2.06 2.06-.94-2.06-.94-.94-2.06-.94 2.06-2.06.94z\"/><path d=\"M17.41 7.96l-1.37-1.37c-.4-.4-.92-.59-1.43-.59-.52 0-1.04.2-1.43.59L10.3 9.45l-7.72 7.72c-.78.78-.78 2.05 0 2.83L4 21.41c.39.39.9.59 1.41.59.51 0 1.02-.2 1.41-.59l7.78-7.78 2.81-2.81c.8-.78.8-2.07 0-2.86zM5.41 20L4 18.59l7.72-7.72 1.47 1.35L5.41 20z\"/>\n",
              "  </svg>\n",
              "      </button>\n",
              "      \n",
              "  <style>\n",
              "    .colab-df-container {\n",
              "      display:flex;\n",
              "      flex-wrap:wrap;\n",
              "      gap: 12px;\n",
              "    }\n",
              "\n",
              "    .colab-df-convert {\n",
              "      background-color: #E8F0FE;\n",
              "      border: none;\n",
              "      border-radius: 50%;\n",
              "      cursor: pointer;\n",
              "      display: none;\n",
              "      fill: #1967D2;\n",
              "      height: 32px;\n",
              "      padding: 0 0 0 0;\n",
              "      width: 32px;\n",
              "    }\n",
              "\n",
              "    .colab-df-convert:hover {\n",
              "      background-color: #E2EBFA;\n",
              "      box-shadow: 0px 1px 2px rgba(60, 64, 67, 0.3), 0px 1px 3px 1px rgba(60, 64, 67, 0.15);\n",
              "      fill: #174EA6;\n",
              "    }\n",
              "\n",
              "    [theme=dark] .colab-df-convert {\n",
              "      background-color: #3B4455;\n",
              "      fill: #D2E3FC;\n",
              "    }\n",
              "\n",
              "    [theme=dark] .colab-df-convert:hover {\n",
              "      background-color: #434B5C;\n",
              "      box-shadow: 0px 1px 3px 1px rgba(0, 0, 0, 0.15);\n",
              "      filter: drop-shadow(0px 1px 2px rgba(0, 0, 0, 0.3));\n",
              "      fill: #FFFFFF;\n",
              "    }\n",
              "  </style>\n",
              "\n",
              "      <script>\n",
              "        const buttonEl =\n",
              "          document.querySelector('#df-aee9bdc1-d8c1-45d5-995a-43a780285c8a button.colab-df-convert');\n",
              "        buttonEl.style.display =\n",
              "          google.colab.kernel.accessAllowed ? 'block' : 'none';\n",
              "\n",
              "        async function convertToInteractive(key) {\n",
              "          const element = document.querySelector('#df-aee9bdc1-d8c1-45d5-995a-43a780285c8a');\n",
              "          const dataTable =\n",
              "            await google.colab.kernel.invokeFunction('convertToInteractive',\n",
              "                                                     [key], {});\n",
              "          if (!dataTable) return;\n",
              "\n",
              "          const docLinkHtml = 'Like what you see? Visit the ' +\n",
              "            '<a target=\"_blank\" href=https://colab.research.google.com/notebooks/data_table.ipynb>data table notebook</a>'\n",
              "            + ' to learn more about interactive tables.';\n",
              "          element.innerHTML = '';\n",
              "          dataTable['output_type'] = 'display_data';\n",
              "          await google.colab.output.renderOutput(dataTable, element);\n",
              "          const docLink = document.createElement('div');\n",
              "          docLink.innerHTML = docLinkHtml;\n",
              "          element.appendChild(docLink);\n",
              "        }\n",
              "      </script>\n",
              "    </div>\n",
              "  </div>\n",
              "  "
            ]
          },
          "metadata": {},
          "execution_count": 123
        }
      ]
    },
    {
      "cell_type": "code",
      "source": [
        "# Medidas Descritivas dos Superhosts\n",
        "filtro_sh = (df.superhost == True)\n",
        "df_sh = df.loc[filtro_sh]\n",
        "df_sh.describe()"
      ],
      "metadata": {
        "colab": {
          "base_uri": "https://localhost:8080/",
          "height": 300
        },
        "id": "oz9_TSvH0f8L",
        "outputId": "3385db96-a435-4823-df12-afdf36bd7d82"
      },
      "execution_count": null,
      "outputs": [
        {
          "output_type": "execute_result",
          "data": {
            "text/plain": [
              "       preco_total  capacidade  nota_limpeza  satisfacao     quartos  \\\n",
              "count   323.000000  323.000000    323.000000  323.000000  323.000000   \n",
              "mean    504.140530    2.643963      9.851393   97.195046    1.210526   \n",
              "std     340.339243    0.996976      0.381509    2.435957    0.599389   \n",
              "min     165.678532    2.000000      8.000000   80.000000    0.000000   \n",
              "25%     288.707145    2.000000     10.000000   96.000000    1.000000   \n",
              "50%     368.851499    2.000000     10.000000   98.000000    1.000000   \n",
              "75%     610.456260    4.000000     10.000000   99.000000    1.000000   \n",
              "max    2771.307384    6.000000     10.000000  100.000000    3.000000   \n",
              "\n",
              "       distancia_centro  distancia_metro  \n",
              "count        323.000000       323.000000  \n",
              "mean           2.899304         1.141513  \n",
              "std            2.127966         0.876304  \n",
              "min            0.122820         0.036530  \n",
              "25%            1.339418         0.490977  \n",
              "50%            2.262392         0.852993  \n",
              "75%            3.797796         1.576839  \n",
              "max           10.853493         4.030014  "
            ],
            "text/html": [
              "\n",
              "  <div id=\"df-8bca24f7-b30b-493f-a659-a85dfe0aa074\">\n",
              "    <div class=\"colab-df-container\">\n",
              "      <div>\n",
              "<style scoped>\n",
              "    .dataframe tbody tr th:only-of-type {\n",
              "        vertical-align: middle;\n",
              "    }\n",
              "\n",
              "    .dataframe tbody tr th {\n",
              "        vertical-align: top;\n",
              "    }\n",
              "\n",
              "    .dataframe thead th {\n",
              "        text-align: right;\n",
              "    }\n",
              "</style>\n",
              "<table border=\"1\" class=\"dataframe\">\n",
              "  <thead>\n",
              "    <tr style=\"text-align: right;\">\n",
              "      <th></th>\n",
              "      <th>preco_total</th>\n",
              "      <th>capacidade</th>\n",
              "      <th>nota_limpeza</th>\n",
              "      <th>satisfacao</th>\n",
              "      <th>quartos</th>\n",
              "      <th>distancia_centro</th>\n",
              "      <th>distancia_metro</th>\n",
              "    </tr>\n",
              "  </thead>\n",
              "  <tbody>\n",
              "    <tr>\n",
              "      <th>count</th>\n",
              "      <td>323.000000</td>\n",
              "      <td>323.000000</td>\n",
              "      <td>323.000000</td>\n",
              "      <td>323.000000</td>\n",
              "      <td>323.000000</td>\n",
              "      <td>323.000000</td>\n",
              "      <td>323.000000</td>\n",
              "    </tr>\n",
              "    <tr>\n",
              "      <th>mean</th>\n",
              "      <td>504.140530</td>\n",
              "      <td>2.643963</td>\n",
              "      <td>9.851393</td>\n",
              "      <td>97.195046</td>\n",
              "      <td>1.210526</td>\n",
              "      <td>2.899304</td>\n",
              "      <td>1.141513</td>\n",
              "    </tr>\n",
              "    <tr>\n",
              "      <th>std</th>\n",
              "      <td>340.339243</td>\n",
              "      <td>0.996976</td>\n",
              "      <td>0.381509</td>\n",
              "      <td>2.435957</td>\n",
              "      <td>0.599389</td>\n",
              "      <td>2.127966</td>\n",
              "      <td>0.876304</td>\n",
              "    </tr>\n",
              "    <tr>\n",
              "      <th>min</th>\n",
              "      <td>165.678532</td>\n",
              "      <td>2.000000</td>\n",
              "      <td>8.000000</td>\n",
              "      <td>80.000000</td>\n",
              "      <td>0.000000</td>\n",
              "      <td>0.122820</td>\n",
              "      <td>0.036530</td>\n",
              "    </tr>\n",
              "    <tr>\n",
              "      <th>25%</th>\n",
              "      <td>288.707145</td>\n",
              "      <td>2.000000</td>\n",
              "      <td>10.000000</td>\n",
              "      <td>96.000000</td>\n",
              "      <td>1.000000</td>\n",
              "      <td>1.339418</td>\n",
              "      <td>0.490977</td>\n",
              "    </tr>\n",
              "    <tr>\n",
              "      <th>50%</th>\n",
              "      <td>368.851499</td>\n",
              "      <td>2.000000</td>\n",
              "      <td>10.000000</td>\n",
              "      <td>98.000000</td>\n",
              "      <td>1.000000</td>\n",
              "      <td>2.262392</td>\n",
              "      <td>0.852993</td>\n",
              "    </tr>\n",
              "    <tr>\n",
              "      <th>75%</th>\n",
              "      <td>610.456260</td>\n",
              "      <td>4.000000</td>\n",
              "      <td>10.000000</td>\n",
              "      <td>99.000000</td>\n",
              "      <td>1.000000</td>\n",
              "      <td>3.797796</td>\n",
              "      <td>1.576839</td>\n",
              "    </tr>\n",
              "    <tr>\n",
              "      <th>max</th>\n",
              "      <td>2771.307384</td>\n",
              "      <td>6.000000</td>\n",
              "      <td>10.000000</td>\n",
              "      <td>100.000000</td>\n",
              "      <td>3.000000</td>\n",
              "      <td>10.853493</td>\n",
              "      <td>4.030014</td>\n",
              "    </tr>\n",
              "  </tbody>\n",
              "</table>\n",
              "</div>\n",
              "      <button class=\"colab-df-convert\" onclick=\"convertToInteractive('df-8bca24f7-b30b-493f-a659-a85dfe0aa074')\"\n",
              "              title=\"Convert this dataframe to an interactive table.\"\n",
              "              style=\"display:none;\">\n",
              "        \n",
              "  <svg xmlns=\"http://www.w3.org/2000/svg\" height=\"24px\"viewBox=\"0 0 24 24\"\n",
              "       width=\"24px\">\n",
              "    <path d=\"M0 0h24v24H0V0z\" fill=\"none\"/>\n",
              "    <path d=\"M18.56 5.44l.94 2.06.94-2.06 2.06-.94-2.06-.94-.94-2.06-.94 2.06-2.06.94zm-11 1L8.5 8.5l.94-2.06 2.06-.94-2.06-.94L8.5 2.5l-.94 2.06-2.06.94zm10 10l.94 2.06.94-2.06 2.06-.94-2.06-.94-.94-2.06-.94 2.06-2.06.94z\"/><path d=\"M17.41 7.96l-1.37-1.37c-.4-.4-.92-.59-1.43-.59-.52 0-1.04.2-1.43.59L10.3 9.45l-7.72 7.72c-.78.78-.78 2.05 0 2.83L4 21.41c.39.39.9.59 1.41.59.51 0 1.02-.2 1.41-.59l7.78-7.78 2.81-2.81c.8-.78.8-2.07 0-2.86zM5.41 20L4 18.59l7.72-7.72 1.47 1.35L5.41 20z\"/>\n",
              "  </svg>\n",
              "      </button>\n",
              "      \n",
              "  <style>\n",
              "    .colab-df-container {\n",
              "      display:flex;\n",
              "      flex-wrap:wrap;\n",
              "      gap: 12px;\n",
              "    }\n",
              "\n",
              "    .colab-df-convert {\n",
              "      background-color: #E8F0FE;\n",
              "      border: none;\n",
              "      border-radius: 50%;\n",
              "      cursor: pointer;\n",
              "      display: none;\n",
              "      fill: #1967D2;\n",
              "      height: 32px;\n",
              "      padding: 0 0 0 0;\n",
              "      width: 32px;\n",
              "    }\n",
              "\n",
              "    .colab-df-convert:hover {\n",
              "      background-color: #E2EBFA;\n",
              "      box-shadow: 0px 1px 2px rgba(60, 64, 67, 0.3), 0px 1px 3px 1px rgba(60, 64, 67, 0.15);\n",
              "      fill: #174EA6;\n",
              "    }\n",
              "\n",
              "    [theme=dark] .colab-df-convert {\n",
              "      background-color: #3B4455;\n",
              "      fill: #D2E3FC;\n",
              "    }\n",
              "\n",
              "    [theme=dark] .colab-df-convert:hover {\n",
              "      background-color: #434B5C;\n",
              "      box-shadow: 0px 1px 3px 1px rgba(0, 0, 0, 0.15);\n",
              "      filter: drop-shadow(0px 1px 2px rgba(0, 0, 0, 0.3));\n",
              "      fill: #FFFFFF;\n",
              "    }\n",
              "  </style>\n",
              "\n",
              "      <script>\n",
              "        const buttonEl =\n",
              "          document.querySelector('#df-8bca24f7-b30b-493f-a659-a85dfe0aa074 button.colab-df-convert');\n",
              "        buttonEl.style.display =\n",
              "          google.colab.kernel.accessAllowed ? 'block' : 'none';\n",
              "\n",
              "        async function convertToInteractive(key) {\n",
              "          const element = document.querySelector('#df-8bca24f7-b30b-493f-a659-a85dfe0aa074');\n",
              "          const dataTable =\n",
              "            await google.colab.kernel.invokeFunction('convertToInteractive',\n",
              "                                                     [key], {});\n",
              "          if (!dataTable) return;\n",
              "\n",
              "          const docLinkHtml = 'Like what you see? Visit the ' +\n",
              "            '<a target=\"_blank\" href=https://colab.research.google.com/notebooks/data_table.ipynb>data table notebook</a>'\n",
              "            + ' to learn more about interactive tables.';\n",
              "          element.innerHTML = '';\n",
              "          dataTable['output_type'] = 'display_data';\n",
              "          await google.colab.output.renderOutput(dataTable, element);\n",
              "          const docLink = document.createElement('div');\n",
              "          docLink.innerHTML = docLinkHtml;\n",
              "          element.appendChild(docLink);\n",
              "        }\n",
              "      </script>\n",
              "    </div>\n",
              "  </div>\n",
              "  "
            ]
          },
          "metadata": {},
          "execution_count": 124
        }
      ]
    },
    {
      "cell_type": "markdown",
      "source": [
        "## **Filtros**"
      ],
      "metadata": {
        "id": "dIk6K0MeNScy"
      }
    },
    {
      "cell_type": "code",
      "source": [
        "# Filtro por tipo de quarto\n",
        "filtro_comp = (df.tipo_quarto == 'Quarto compartilhado')\n",
        "filtro_priv = (df.tipo_quarto == 'Quarto privado')\n",
        "filtro_casa_apt = (df.tipo_quarto == 'Casa inteira/Apt')\n",
        "filtro_estudio = (df.tipo_quarto == 'Estudio')"
      ],
      "metadata": {
        "id": "Skdv-A6pBejg"
      },
      "execution_count": null,
      "outputs": []
    },
    {
      "cell_type": "code",
      "source": [
        "# Novos dataframes com filtros\n",
        "df_comp = df.loc[filtro_comp]\n",
        "df_priv = df.loc[filtro_priv]\n",
        "df_casa_apt = df.loc[filtro_casa_apt]\n",
        "df_estudio = df.loc[filtro_estudio]"
      ],
      "metadata": {
        "id": "YgZmzlk_s5Yc"
      },
      "execution_count": null,
      "outputs": []
    },
    {
      "cell_type": "markdown",
      "source": [
        "## **Gráficos**"
      ],
      "metadata": {
        "id": "fujxzI8phynm"
      }
    },
    {
      "cell_type": "code",
      "source": [
        "# Gráfico de setores (Verificar percentual de tipos de quarto)\n",
        "\n",
        "df.groupby(['tipo_quarto'],dropna=False).size().sort_values(ascending=False).plot(kind='pie',\n",
        "                                                                                  figsize=(5, 5),\n",
        "                                                                                  autopct='%1.0f%%')\n",
        "plt.title('Percentual de tipos de quartos', loc='center')\n",
        "plt.show()"
      ],
      "metadata": {
        "colab": {
          "base_uri": "https://localhost:8080/",
          "height": 444
        },
        "id": "E0VmPYKXvJIc",
        "outputId": "ea945cf3-3b95-46ec-951a-d058f7c6ec95"
      },
      "execution_count": null,
      "outputs": [
        {
          "output_type": "display_data",
          "data": {
            "text/plain": [
              "<Figure size 500x500 with 1 Axes>"
            ],
            "image/png": "[encoded data removed]"
          },
          "metadata": {}
        }
      ]
    },
    {
      "cell_type": "code",
      "source": [
        "# Gráfico Histograma (Verificar a distribuição dos preços dos alugueis)\n",
        "\n",
        "plt.figure(figsize=(7, 5))\n",
        "plt.hist(df[\"preco_total\"], bins=30, edgecolor=\"black\", range=(0, 7783))\n",
        "plt.xlabel(\"Preço Total\")\n",
        "plt.ylabel(\"Frequência\")\n",
        "plt.title(\"Distribuição de Preços Totais\")\n",
        "plt.show()"
      ],
      "metadata": {
        "colab": {
          "base_uri": "https://localhost:8080/",
          "height": 487
        },
        "id": "j-TEcKCgt7aW",
        "outputId": "80d4bf13-f215-4fb3-f0a4-45b256973b37"
      },
      "execution_count": null,
      "outputs": [
        {
          "output_type": "display_data",
          "data": {
            "text/plain": [
              "<Figure size 700x500 with 1 Axes>"
            ],
            "image/png": "[encoded data removed]"
          },
          "metadata": {}
        }
      ]
    },
    {
      "cell_type": "code",
      "source": [
        "# Média dos preços do aluguel\n",
        "\n",
        "print(f'A média dos preços do total de alugueis é: €{df[\"preco_total\"].mean():.2f} | R$2902.73')\n",
        "print(f'A média dos preços dos Quartos Compartilhados é: €{df_comp[\"preco_total\"].mean():.2f} / R$1496.42')\n",
        "print(f'A média dos preços dos Quartos Privados é: €{df_priv[\"preco_total\"].mean():.2f} / R$1950.99')\n",
        "print(f'A média dos preços das Casas Inteiras ou Apt é: €{df_casa_apt[\"preco_total\"].mean():.2f} / R$3972.13')\n",
        "print(f'A média dos preços dos Estudios é: €{df_estudio[\"preco_total\"].mean():.2f} / R$2237.31')"
      ],
      "metadata": {
        "colab": {
          "base_uri": "https://localhost:8080/"
        },
        "id": "TLHt8wMGztzU",
        "outputId": "a7213e35-4001-4c13-f441-a5660f3d0d3a"
      },
      "execution_count": null,
      "outputs": [
        {
          "output_type": "stream",
          "name": "stdout",
          "text": [
            "A média dos preços do total de alugueis é: €545.02 | R$2902.73\n",
            "A média dos preços dos Quartos Compartilhados é: €280.97 / R$1496.42\n",
            "A média dos preços dos Quartos Privados é: €366.32 / R$1950.99\n",
            "A média dos preços das Casas Inteiras ou Apt é: €745.81 / R$3972.13\n",
            "A média dos preços dos Estudios é: €420.08 / R$2237.31\n"
          ]
        }
      ]
    },
    {
      "cell_type": "code",
      "source": [
        "# Gráfico de Barra (Verificar a distribuição dos niveis de satisfação com a limpeza)\n",
        "\n",
        "df.groupby('nota_limpeza').size().sort_values(ascending=False).plot.bar(figsize=(7,5), color=['DarkCyan'])\n",
        "plt.xlabel('Nota de Limpeza')\n",
        "plt.ylabel('Quantidade de Avaliações')\n",
        "plt.title('Satisfação com a Limpeza')\n",
        "plt.show()"
      ],
      "metadata": {
        "colab": {
          "base_uri": "https://localhost:8080/",
          "height": 504
        },
        "id": "eEvsC_h5_pZ8",
        "outputId": "16ddfd00-8dab-47fb-bce4-2794f024c40e"
      },
      "execution_count": null,
      "outputs": [
        {
          "output_type": "display_data",
          "data": {
            "text/plain": [
              "<Figure size 700x500 with 1 Axes>"
            ],
            "image/png": "[encoded data removed]"
          },
          "metadata": {}
        }
      ]
    },
    {
      "cell_type": "code",
      "source": [
        "# Gráfico de Barra (Verificar a distribuição dos niveis de satisfação com o local)\n",
        "\n",
        "df.groupby('satisfacao').size().sort_values(ascending=True).plot.bar(figsize=(7,5), color=['DarkCyan'])\n",
        "plt.xlabel('Nota')\n",
        "plt.ylabel('Quantidade de Avaliações')\n",
        "plt.title('Satisfação com local alugado')\n",
        "plt.show()"
      ],
      "metadata": {
        "colab": {
          "base_uri": "https://localhost:8080/",
          "height": 513
        },
        "id": "Ld-WfIBpBjGg",
        "outputId": "8b5933a3-14a2-40a3-a5b8-3e56e0572d0f"
      },
      "execution_count": null,
      "outputs": [
        {
          "output_type": "display_data",
          "data": {
            "text/plain": [
              "<Figure size 700x500 with 1 Axes>"
            ],
            "image/png": "[encoded data removed]"
          },
          "metadata": {}
        }
      ]
    },
    {
      "cell_type": "code",
      "source": [
        "# Gráfico de Caixa (Verificar limites de \"normalidade\" e possiveis outliers)\n",
        "\n",
        "df.plot.box(column=\"satisfacao\", figsize=(7, 5))\n",
        "plt.show()"
      ],
      "metadata": {
        "colab": {
          "base_uri": "https://localhost:8080/",
          "height": 445
        },
        "id": "duF7XS2x-5D6",
        "outputId": "6b537e37-3e02-40c2-e414-fb6f32cb5d99"
      },
      "execution_count": null,
      "outputs": [
        {
          "output_type": "display_data",
          "data": {
            "text/plain": [
              "<Figure size 700x500 with 1 Axes>"
            ],
            "image/png": "[encoded data removed]"
          },
          "metadata": {}
        }
      ]
    },
    {
      "cell_type": "code",
      "source": [
        "df.groupby(['capacidade']).size().plot.barh(figsize=(7,5), color=['skyblue'])\n",
        "plt.xlabel('Contagem')\n",
        "plt.ylabel('Capacidade')\n",
        "plt.title('Contagem de alugueis por capacidade')\n",
        "plt.show()"
      ],
      "metadata": {
        "colab": {
          "base_uri": "https://localhost:8080/",
          "height": 487
        },
        "id": "JOsf7ul2C2of",
        "outputId": "34c80d36-2516-4b2d-dc30-74d3c7571a46"
      },
      "execution_count": null,
      "outputs": [
        {
          "output_type": "display_data",
          "data": {
            "text/plain": [
              "<Figure size 700x500 with 1 Axes>"
            ],
            "image/png": "[encoded data removed]"
          },
          "metadata": {}
        }
      ]
    },
    {
      "cell_type": "code",
      "source": [
        "# Gráfico de setores (Verificar o percentual de Superhosts)\n",
        "\n",
        "df.groupby(['superhost'],dropna=False).size().sort_values(ascending=False).plot(kind='pie',\n",
        "                                                                                  figsize=(5, 5),\n",
        "                                                                                  autopct='%1.0f%%')\n",
        "plt.title('Percentual de Superhosts', loc='center')\n",
        "plt.show()"
      ],
      "metadata": {
        "colab": {
          "base_uri": "https://localhost:8080/",
          "height": 444
        },
        "id": "cXot5wE90lz-",
        "outputId": "a0cd1ca8-53f6-445c-b40b-66af76036026"
      },
      "execution_count": null,
      "outputs": [
        {
          "output_type": "display_data",
          "data": {
            "text/plain": [
              "<Figure size 500x500 with 1 Axes>"
            ],
            "image/png": "[encoded data removed]"
          },
          "metadata": {}
        }
      ]
    },
    {
      "cell_type": "code",
      "source": [
        "# Mapa de Calor (Verificar possiveis correlações entre os atributos e seus respectivos dados)\n",
        "\n",
        "'''\n",
        "r = 0,9 a 1 (positivo ou negativo): correlação muito forte;\n",
        "r = 0,7 a 09 (positivo ou negativo): correlação forte;\n",
        "r = 0,5 a 0,7 (positivo ou negativo): correlação moderada;\n",
        "r = 0,3 a 0,5 (positivo ou negativo): correlação fraca;\n",
        "r = 0 a 0,3 (positivo ou negativo): não possui correlação.\n",
        "'''\n",
        "\n",
        "# Calculando a matriz de correlação\n",
        "correlacao = df.corr()\n",
        "\n",
        "# Plotar o heatmap\n",
        "plt.figure(figsize=(10, 8))  # Tamanho da figura\n",
        "sns.heatmap(correlacao, annot=True, cmap=\"coolwarm\", fmt=\".2f\")  # Plotar o heatmap\n",
        "plt.title(\"Matriz de Correlação\")  # Título do gráfico\n",
        "\n",
        "# Exibir o gráfico\n",
        "plt.show()\n"
      ],
      "metadata": {
        "colab": {
          "base_uri": "https://localhost:8080/",
          "height": 856
        },
        "id": "FP2wIMYFq_Aq",
        "outputId": "911852bb-925c-4224-e6d9-1569ec84305b"
      },
      "execution_count": null,
      "outputs": [
        {
          "output_type": "stream",
          "name": "stderr",
          "text": [
            "<ipython-input-135-8b82e909fe72>:12: FutureWarning: The default value of numeric_only in DataFrame.corr is deprecated. In a future version, it will default to False. Select only valid columns or specify the value of numeric_only to silence this warning.\n",
            "  correlacao = df.corr()\n"
          ]
        },
        {
          "output_type": "display_data",
          "data": {
            "text/plain": [
              "<Figure size 1000x800 with 2 Axes>"
            ],
            "image/png": "[encoded data removed]"
          },
          "metadata": {}
        }
      ]
    },
    {
      "cell_type": "markdown",
      "source": [
        "## **Conclusões**"
      ],
      "metadata": {
        "id": "1GCS1enCkkIM"
      }
    },
    {
      "cell_type": "markdown",
      "source": [
        "### **Observaçês Gerais**\n",
        "\n",
        "* A média de preços do Dataframe analisado é de €545.02 | R$2902.73 (Com desvio padrão de aproximadamente €416 para mais ou para menos).\n",
        "\n",
        "* Os tipos de quartos mais alugados são Quarto Privado (46%) e Casa Inteira/Apartamento (46%).\n",
        "\n",
        "* A média de preços dos tipos de quartos mais alugados são de €366 para Quartos Privados e €745 para Casas Inteiras/Apartamentos.\n",
        "\n",
        "* 90% das avaliações de satisfação com a limpeza estão com notas entre 9 e 10. (Considerando notas de 0 a 10).\n",
        "\n",
        "* Dos 1103 aluguéis analisados, apenas 2 avaliações de satisfação com local ficaram abaixo de 65%, sendo a maior parte das avaliações estando entre 83% e 100% de satisfação.\n",
        "\n",
        "* 59% dos quartos/casas alugadas possuiam capacidade para 2 hospedes, seguido por quartos/casas com capacidade de 4 hospedes correspondente a 30%.\n",
        "\n",
        "* Apenas 29% dos anfitriôes são Superhosts.\n",
        "\n",
        "* Foi verificado possiveis correlações com atributos utilizados nesta analise, no entanto, as correlações são consideradas fracas ou que não possuem correlação.\n",
        "\n"
      ],
      "metadata": {
        "id": "ylNkG24YAp-g"
      }
    },
    {
      "cell_type": "markdown",
      "source": [
        "## **Oportunidades**\n",
        "\n",
        "* **Diversificação de tipos de quartos**: Com os quartos privados e casas inteiras/apartamentos sendo os tipos de quartos mais alugados, há uma oportunidade de diversificar a oferta de acomodações. Isso pode incluir a inclusão de outros tipos de quartos, como quartos compartilhados, suítes ou estúdios, para atrair diferentes tipos de viajantes.\n",
        "\n",
        "* **Foco na qualidade da limpeza**: Com uma alta porcentagem de avaliações de satisfação com a limpeza entre 9 e 10, é uma oportunidade para enfatizar e destacar a qualidade da limpeza nas listagens. Isso pode ser uma vantagem competitiva ao atrair viajantes que valorizam a higiene e a limpeza dos espaços.\n",
        "\n",
        "* **Melhoria da satisfação com o local**: Embora a maioria das avaliações de satisfação com o local esteja entre 83% e 100%, a identificação de duas avaliações abaixo de 65% pode indicar uma oportunidade de melhorar a satisfação geral dos hóspedes com a localização das propriedades. Isso pode ser alcançado fornecendo informações detalhadas sobre a localização, pontos de interesse nas proximidades e facilidades de transporte.\n",
        "\n",
        "* **Foco em quartos para 2 hóspedes**: Considerando que 59% dos quartos/casas alugadas têm capacidade para 2 hóspedes, é uma oportunidade direcionar esforços de marketing e aprimorar a oferta para atender especificamente a essa demanda. Isso pode envolver a criação de pacotes ou descontos especiais para casais ou viajantes individuais.\n",
        "\n",
        "* **Aumento do número de Superhosts**: Com apenas 29% dos anfitriões sendo Superhosts, há uma oportunidade de incentivar mais anfitriões a alcançar esse status. Isso pode ser feito por meio de programas de suporte e orientação, reconhecendo e destacando os benefícios de ser um Superhost. Ter um número maior de Superhosts pode melhorar a reputação geral do Airbnb em Amsterdam."
      ],
      "metadata": {
        "id": "uyIwlFhhOZJO"
      }
    },
    {
      "cell_type": "markdown",
      "source": [
        "## **Ameaças**\n",
        "\n",
        "* **Baixa satisfação em algumas avaliações de satisfação com o local**: Embora a maioria das avaliações esteja positiva, a identificação de algumas avaliações abaixo de 65% de satisfação com o local pode representar uma ameaça. Essas avaliações podem impactar a reputação do Airbnb e influenciar a decisão de potenciais hóspedes. É importante identificar e abordar as questões subjacentes que contribuíram para essas avaliações negativas.\n",
        "\n",
        "* **Competição no mercado**: Com a presença de um grande número de anfitriões (apenas 29% dos quais são Superhosts), o mercado de aluguel de curta duração em Amsterdam pode ser altamente competitivo. Isso pode representar um desafio para atrair hóspedes e manter uma taxa de ocupação elevada.\n",
        "\n",
        "* **Regulamentações e restrições locais**: É importante considerar as regulamentações e restrições locais que podem afetar a operação do Airbnb em Amsterdam. Mudanças nas leis ou restrições impostas pelas autoridades podem limitar o crescimento ou impor obrigações adicionais ao empreendimento."
      ],
      "metadata": {
        "id": "7Qp3a3XmQDbA"
      }
    },
    {
      "cell_type": "markdown",
      "source": [
        "**Conclusão**: Vão sobreviver os \"hotéis\" que alterarem seus modelos de negócios. Ou seja, os que captarem a evolução das necessidades, preferências e comportamentos do consumidor."
      ],
      "metadata": {
        "id": "V-D9uE4UQ8rA"
      }
    }
  ]
}